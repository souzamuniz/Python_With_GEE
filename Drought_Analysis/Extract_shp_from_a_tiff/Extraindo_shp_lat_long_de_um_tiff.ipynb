{
  "nbformat": 4,
  "nbformat_minor": 0,
  "metadata": {
    "colab": {
      "provenance": [],
      "authorship_tag": "ABX9TyP+VfE+VmXGq3DN2w4AGpQg",
      "include_colab_link": true
    },
    "kernelspec": {
      "name": "python3",
      "display_name": "Python 3"
    },
    "language_info": {
      "name": "python"
    }
  },
  "cells": [
    {
      "cell_type": "markdown",
      "metadata": {
        "id": "view-in-github",
        "colab_type": "text"
      },
      "source": [
        "<a href=\"https://colab.research.google.com/github/souzamuniz/Drought_Analysis/blob/main/Extraindo_shp_lat_long_de_um_tiff.ipynb\" target=\"_parent\"><img src=\"https://colab.research.google.com/assets/colab-badge.svg\" alt=\"Open In Colab\"/></a>"
      ]
    },
    {
      "cell_type": "markdown",
      "source": [
        "NESTA ETAPA EXTRAÍMOS A LATITUDE E A LONGITUDE DOS PONTOS A SEREM ANALIZADOS"
      ],
      "metadata": {
        "id": "Wpf2VH44WZuJ"
      }
    },
    {
      "cell_type": "code",
      "source": [
        "!pip install geopandas"
      ],
      "metadata": {
        "colab": {
          "base_uri": "https://localhost:8080/"
        },
        "id": "T4xsmXPF29kl",
        "outputId": "63d3bee2-0a0c-4009-afd6-76b6db5d0f25"
      },
      "execution_count": 11,
      "outputs": [
        {
          "output_type": "stream",
          "name": "stdout",
          "text": [
            "Looking in indexes: https://pypi.org/simple, https://us-python.pkg.dev/colab-wheels/public/simple/\n",
            "Collecting geopandas\n",
            "  Downloading geopandas-0.12.2-py3-none-any.whl (1.1 MB)\n",
            "\u001b[K     |████████████████████████████████| 1.1 MB 8.9 MB/s \n",
            "\u001b[?25hRequirement already satisfied: pandas>=1.0.0 in /usr/local/lib/python3.8/dist-packages (from geopandas) (1.3.5)\n",
            "Requirement already satisfied: packaging in /usr/local/lib/python3.8/dist-packages (from geopandas) (21.3)\n",
            "Collecting pyproj>=2.6.1.post1\n",
            "  Downloading pyproj-3.4.1-cp38-cp38-manylinux_2_17_x86_64.manylinux2014_x86_64.whl (7.8 MB)\n",
            "\u001b[K     |████████████████████████████████| 7.8 MB 46.1 MB/s \n",
            "\u001b[?25hRequirement already satisfied: shapely>=1.7 in /usr/local/lib/python3.8/dist-packages (from geopandas) (2.0.0)\n",
            "Collecting fiona>=1.8\n",
            "  Downloading Fiona-1.8.22-cp38-cp38-manylinux_2_17_x86_64.manylinux2014_x86_64.whl (16.6 MB)\n",
            "\u001b[K     |████████████████████████████████| 16.6 MB 44.1 MB/s \n",
            "\u001b[?25hRequirement already satisfied: setuptools in /usr/local/lib/python3.8/dist-packages (from fiona>=1.8->geopandas) (57.4.0)\n",
            "Requirement already satisfied: attrs>=17 in /usr/local/lib/python3.8/dist-packages (from fiona>=1.8->geopandas) (22.1.0)\n",
            "Collecting cligj>=0.5\n",
            "  Downloading cligj-0.7.2-py3-none-any.whl (7.1 kB)\n",
            "Collecting click-plugins>=1.0\n",
            "  Downloading click_plugins-1.1.1-py2.py3-none-any.whl (7.5 kB)\n",
            "Requirement already satisfied: certifi in /usr/local/lib/python3.8/dist-packages (from fiona>=1.8->geopandas) (2022.12.7)\n",
            "Requirement already satisfied: six>=1.7 in /usr/local/lib/python3.8/dist-packages (from fiona>=1.8->geopandas) (1.15.0)\n",
            "Collecting munch\n",
            "  Downloading munch-2.5.0-py2.py3-none-any.whl (10 kB)\n",
            "Requirement already satisfied: click>=4.0 in /usr/local/lib/python3.8/dist-packages (from fiona>=1.8->geopandas) (7.1.2)\n",
            "Requirement already satisfied: python-dateutil>=2.7.3 in /usr/local/lib/python3.8/dist-packages (from pandas>=1.0.0->geopandas) (2.8.2)\n",
            "Requirement already satisfied: numpy>=1.17.3 in /usr/local/lib/python3.8/dist-packages (from pandas>=1.0.0->geopandas) (1.21.6)\n",
            "Requirement already satisfied: pytz>=2017.3 in /usr/local/lib/python3.8/dist-packages (from pandas>=1.0.0->geopandas) (2022.6)\n",
            "Requirement already satisfied: pyparsing!=3.0.5,>=2.0.2 in /usr/local/lib/python3.8/dist-packages (from packaging->geopandas) (3.0.9)\n",
            "Installing collected packages: munch, cligj, click-plugins, pyproj, fiona, geopandas\n",
            "Successfully installed click-plugins-1.1.1 cligj-0.7.2 fiona-1.8.22 geopandas-0.12.2 munch-2.5.0 pyproj-3.4.1\n"
          ]
        }
      ]
    },
    {
      "cell_type": "code",
      "source": [
        "from osgeo import gdal\n",
        "import pandas as pd\n",
        "import numpy as np\n",
        "import os\n",
        "import matplotlib.pyplot as plt\n",
        "import geopandas as gpd\n",
        "from shapely.geometry import Point, Polygon"
      ],
      "metadata": {
        "id": "uHocroFWWCoB"
      },
      "execution_count": 18,
      "outputs": []
    },
    {
      "cell_type": "code",
      "source": [
        "tiff_importado = gdal.Open(\"landsat.tif\")\n",
        "produto = 'landsat'"
      ],
      "metadata": {
        "id": "nSJ8ZFqJV7Uz"
      },
      "execution_count": 13,
      "outputs": []
    },
    {
      "cell_type": "code",
      "execution_count": 23,
      "metadata": {
        "id": "p__WNaMIUOuK"
      },
      "outputs": [],
      "source": [
        "# # importar a imagem que quer usar de referencia para retirar as latitudes\n",
        "# ds = gdal.Open(\"chirps_geom_test_1_1_2021.tif\")\n",
        "ds = tiff_importado\n",
        "# Escolhe a banda que quer utilizar\n",
        "ar = ds.GetRasterBand(1).ReadAsArray()\n",
        "# Verifica o shape do raster\n",
        "ar.shape\n",
        "# Transforma em um vetor coluna\n",
        "flat = ar.flatten()\n",
        "#Extrai as informações cruciais para desenvolvimento do código\n",
        "gt = ds.GetGeoTransform()\n",
        "# Pega a resolução por meio da filtragem do comando de cima\n",
        "# res = gt[1]\n",
        "res = 0.25\n",
        "# Acha o valor da coordenada X mínima\n",
        "xmin = gt[0]\n",
        "# Acha o valor da coordenada Y máxima\n",
        "ymax = gt[3]\n",
        "# Perceba que com o xmin e o ymax, temos o corner superior do raster\n",
        "\n",
        "# Pegamos a informação do tamanho total na direção X\n",
        "xsize = ds.RasterXSize\n",
        "# Pegamos a informação do tamanho total na direção Y\n",
        "ysize = ds.RasterYSize\n",
        "# Queremos o centróide do gride, assim, pegamos o valor do meio para x e y:\n",
        "xstart = xmin +res/2\n",
        "ystart = ymax - res/2\n",
        "\n",
        "# Desativamos o ds\n",
        "ds = None\n",
        "\n",
        "# Agora criaremosum array com os valores do raster\n",
        "x = np.arange(xstart, (xstart+xsize*res), res)  # xstart+xsize*res é a quantidade de vezes que vai ser repetido\n",
        "y = np.arange(ystart, (ystart-ysize*res), -res)\n",
        "# x = np.delete(x,-1) # GABMBIARRA (quando nao for quadrado a imagem exportada)neste caso, nao pegamos uma imagem com o corte certo , possivelmnte temos um grid cortado não simétrico\n",
        "# y = np.delete(y,-1) # GAMBIARRA(nao era quadrado) neste caso, nao pegamos uma imagem com o corte certo , possivelmnte temos um grid cortado não simétrico\n",
        "x = np.tile(x, ysize)\n",
        "y = np.repeat(y, xsize)\n",
        "\n",
        "dfn = pd.DataFrame({\"x\":x, \"y\":y, \"value\":flat})\n",
        "\n",
        "# ######## COMANDOS DE VERIFICAÇÃO:\n",
        "              # print(len(y))\n",
        "              # print(len(x))\n",
        "              # ar.shape\n",
        "              # print(len(yt))\n",
        "              # print(len(xt))\n",
        "              # yt = np.repeat(y, xsize)\n",
        "              # len(yt)"
      ]
    },
    {
      "cell_type": "code",
      "source": [
        "dfn.iloc[:,0:2]"
      ],
      "metadata": {
        "colab": {
          "base_uri": "https://localhost:8080/",
          "height": 424
        },
        "id": "7eRst3tBWLzr",
        "outputId": "bc00bda4-2f1e-4ee6-b58b-e65c46720902"
      },
      "execution_count": 24,
      "outputs": [
        {
          "output_type": "execute_result",
          "data": {
            "text/plain": [
              "                  x           y\n",
              "0       -115.288467   36.420884\n",
              "1       -115.038467   36.420884\n",
              "2       -114.788467   36.420884\n",
              "3       -114.538467   36.420884\n",
              "4       -114.288467   36.420884\n",
              "...             ...         ...\n",
              "1385267  309.961533 -166.329116\n",
              "1385268  310.211533 -166.329116\n",
              "1385269  310.461533 -166.329116\n",
              "1385270  310.711533 -166.329116\n",
              "1385271  310.961533 -166.329116\n",
              "\n",
              "[1385272 rows x 2 columns]"
            ],
            "text/html": [
              "\n",
              "  <div id=\"df-6975e2e7-3b18-476c-b2f0-a872226ff513\">\n",
              "    <div class=\"colab-df-container\">\n",
              "      <div>\n",
              "<style scoped>\n",
              "    .dataframe tbody tr th:only-of-type {\n",
              "        vertical-align: middle;\n",
              "    }\n",
              "\n",
              "    .dataframe tbody tr th {\n",
              "        vertical-align: top;\n",
              "    }\n",
              "\n",
              "    .dataframe thead th {\n",
              "        text-align: right;\n",
              "    }\n",
              "</style>\n",
              "<table border=\"1\" class=\"dataframe\">\n",
              "  <thead>\n",
              "    <tr style=\"text-align: right;\">\n",
              "      <th></th>\n",
              "      <th>x</th>\n",
              "      <th>y</th>\n",
              "    </tr>\n",
              "  </thead>\n",
              "  <tbody>\n",
              "    <tr>\n",
              "      <th>0</th>\n",
              "      <td>-115.288467</td>\n",
              "      <td>36.420884</td>\n",
              "    </tr>\n",
              "    <tr>\n",
              "      <th>1</th>\n",
              "      <td>-115.038467</td>\n",
              "      <td>36.420884</td>\n",
              "    </tr>\n",
              "    <tr>\n",
              "      <th>2</th>\n",
              "      <td>-114.788467</td>\n",
              "      <td>36.420884</td>\n",
              "    </tr>\n",
              "    <tr>\n",
              "      <th>3</th>\n",
              "      <td>-114.538467</td>\n",
              "      <td>36.420884</td>\n",
              "    </tr>\n",
              "    <tr>\n",
              "      <th>4</th>\n",
              "      <td>-114.288467</td>\n",
              "      <td>36.420884</td>\n",
              "    </tr>\n",
              "    <tr>\n",
              "      <th>...</th>\n",
              "      <td>...</td>\n",
              "      <td>...</td>\n",
              "    </tr>\n",
              "    <tr>\n",
              "      <th>1385267</th>\n",
              "      <td>309.961533</td>\n",
              "      <td>-166.329116</td>\n",
              "    </tr>\n",
              "    <tr>\n",
              "      <th>1385268</th>\n",
              "      <td>310.211533</td>\n",
              "      <td>-166.329116</td>\n",
              "    </tr>\n",
              "    <tr>\n",
              "      <th>1385269</th>\n",
              "      <td>310.461533</td>\n",
              "      <td>-166.329116</td>\n",
              "    </tr>\n",
              "    <tr>\n",
              "      <th>1385270</th>\n",
              "      <td>310.711533</td>\n",
              "      <td>-166.329116</td>\n",
              "    </tr>\n",
              "    <tr>\n",
              "      <th>1385271</th>\n",
              "      <td>310.961533</td>\n",
              "      <td>-166.329116</td>\n",
              "    </tr>\n",
              "  </tbody>\n",
              "</table>\n",
              "<p>1385272 rows × 2 columns</p>\n",
              "</div>\n",
              "      <button class=\"colab-df-convert\" onclick=\"convertToInteractive('df-6975e2e7-3b18-476c-b2f0-a872226ff513')\"\n",
              "              title=\"Convert this dataframe to an interactive table.\"\n",
              "              style=\"display:none;\">\n",
              "        \n",
              "  <svg xmlns=\"http://www.w3.org/2000/svg\" height=\"24px\"viewBox=\"0 0 24 24\"\n",
              "       width=\"24px\">\n",
              "    <path d=\"M0 0h24v24H0V0z\" fill=\"none\"/>\n",
              "    <path d=\"M18.56 5.44l.94 2.06.94-2.06 2.06-.94-2.06-.94-.94-2.06-.94 2.06-2.06.94zm-11 1L8.5 8.5l.94-2.06 2.06-.94-2.06-.94L8.5 2.5l-.94 2.06-2.06.94zm10 10l.94 2.06.94-2.06 2.06-.94-2.06-.94-.94-2.06-.94 2.06-2.06.94z\"/><path d=\"M17.41 7.96l-1.37-1.37c-.4-.4-.92-.59-1.43-.59-.52 0-1.04.2-1.43.59L10.3 9.45l-7.72 7.72c-.78.78-.78 2.05 0 2.83L4 21.41c.39.39.9.59 1.41.59.51 0 1.02-.2 1.41-.59l7.78-7.78 2.81-2.81c.8-.78.8-2.07 0-2.86zM5.41 20L4 18.59l7.72-7.72 1.47 1.35L5.41 20z\"/>\n",
              "  </svg>\n",
              "      </button>\n",
              "      \n",
              "  <style>\n",
              "    .colab-df-container {\n",
              "      display:flex;\n",
              "      flex-wrap:wrap;\n",
              "      gap: 12px;\n",
              "    }\n",
              "\n",
              "    .colab-df-convert {\n",
              "      background-color: #E8F0FE;\n",
              "      border: none;\n",
              "      border-radius: 50%;\n",
              "      cursor: pointer;\n",
              "      display: none;\n",
              "      fill: #1967D2;\n",
              "      height: 32px;\n",
              "      padding: 0 0 0 0;\n",
              "      width: 32px;\n",
              "    }\n",
              "\n",
              "    .colab-df-convert:hover {\n",
              "      background-color: #E2EBFA;\n",
              "      box-shadow: 0px 1px 2px rgba(60, 64, 67, 0.3), 0px 1px 3px 1px rgba(60, 64, 67, 0.15);\n",
              "      fill: #174EA6;\n",
              "    }\n",
              "\n",
              "    [theme=dark] .colab-df-convert {\n",
              "      background-color: #3B4455;\n",
              "      fill: #D2E3FC;\n",
              "    }\n",
              "\n",
              "    [theme=dark] .colab-df-convert:hover {\n",
              "      background-color: #434B5C;\n",
              "      box-shadow: 0px 1px 3px 1px rgba(0, 0, 0, 0.15);\n",
              "      filter: drop-shadow(0px 1px 2px rgba(0, 0, 0, 0.3));\n",
              "      fill: #FFFFFF;\n",
              "    }\n",
              "  </style>\n",
              "\n",
              "      <script>\n",
              "        const buttonEl =\n",
              "          document.querySelector('#df-6975e2e7-3b18-476c-b2f0-a872226ff513 button.colab-df-convert');\n",
              "        buttonEl.style.display =\n",
              "          google.colab.kernel.accessAllowed ? 'block' : 'none';\n",
              "\n",
              "        async function convertToInteractive(key) {\n",
              "          const element = document.querySelector('#df-6975e2e7-3b18-476c-b2f0-a872226ff513');\n",
              "          const dataTable =\n",
              "            await google.colab.kernel.invokeFunction('convertToInteractive',\n",
              "                                                     [key], {});\n",
              "          if (!dataTable) return;\n",
              "\n",
              "          const docLinkHtml = 'Like what you see? Visit the ' +\n",
              "            '<a target=\"_blank\" href=https://colab.research.google.com/notebooks/data_table.ipynb>data table notebook</a>'\n",
              "            + ' to learn more about interactive tables.';\n",
              "          element.innerHTML = '';\n",
              "          dataTable['output_type'] = 'display_data';\n",
              "          await google.colab.output.renderOutput(dataTable, element);\n",
              "          const docLink = document.createElement('div');\n",
              "          docLink.innerHTML = docLinkHtml;\n",
              "          element.appendChild(docLink);\n",
              "        }\n",
              "      </script>\n",
              "    </div>\n",
              "  </div>\n",
              "  "
            ]
          },
          "metadata": {},
          "execution_count": 24
        }
      ]
    },
    {
      "cell_type": "code",
      "source": [
        "name ='coordenadas_' + 'do_'+produto+'.csv'\n",
        "print(name)\n",
        "print(name)\n",
        "df_coord = dfn.iloc[:,0:2]\n",
        "df_coord.to_csv(name) "
      ],
      "metadata": {
        "colab": {
          "base_uri": "https://localhost:8080/"
        },
        "id": "EhEuJvUvZPE7",
        "outputId": "4a9354a2-4b2e-4d4c-b027-6e9bb6826411"
      },
      "execution_count": 25,
      "outputs": [
        {
          "output_type": "stream",
          "name": "stdout",
          "text": [
            "coordenadas_do_landsat.csv\n",
            "coordenadas_do_landsat.csv\n"
          ]
        }
      ]
    },
    {
      "cell_type": "markdown",
      "source": [
        "Plote Estilo o de Thiago ( fica tudo azul, pois, são muitos pontos )"
      ],
      "metadata": {
        "id": "uCciIrAp4TTP"
      }
    },
    {
      "cell_type": "code",
      "source": [
        "# crs={'init':'epsg:4326'}\n",
        "\n",
        "# geometry=[Point(xy) for xy in zip(df_coord[\"x\"], df_coord[\"y\"])]\n",
        "# geodata=gpd.GeoDataFrame(df_coord,crs=crs, geometry=geometry)"
      ],
      "metadata": {
        "id": "HDBQNnNB2Brz"
      },
      "execution_count": 73,
      "outputs": []
    },
    {
      "cell_type": "code",
      "source": [
        "geometry"
      ],
      "metadata": {
        "id": "LpSVxEte5IsP"
      },
      "execution_count": null,
      "outputs": []
    },
    {
      "cell_type": "code",
      "source": [
        "# # Plot:\n",
        "# fig, ax = plt.subplots()\n",
        "# geodata.plot(ax=ax)"
      ],
      "metadata": {
        "colab": {
          "base_uri": "https://localhost:8080/",
          "height": 282
        },
        "id": "1r5I64ZJ2W4i",
        "outputId": "471a0add-081b-4853-e74e-7a27e53ce236"
      },
      "execution_count": 72,
      "outputs": [
        {
          "output_type": "execute_result",
          "data": {
            "text/plain": [
              "<matplotlib.axes._subplots.AxesSubplot at 0x7ffaba10ee50>"
            ]
          },
          "metadata": {},
          "execution_count": 72
        },
        {
          "output_type": "display_data",
          "data": {
            "text/plain": [
              "<Figure size 432x288 with 1 Axes>"
            ],
            "image/png": "[encoded data removed]"
          },
          "metadata": {
            "needs_background": "light"
          }
        }
      ]
    },
    {
      "cell_type": "code",
      "source": [],
      "metadata": {
        "id": "Q89hV0aE-CIG"
      },
      "execution_count": null,
      "outputs": []
    },
    {
      "cell_type": "markdown",
      "source": [
        "TRANSFORMANDO DE CSV PARA SHP"
      ],
      "metadata": {
        "id": "OQ20ulG69_OZ"
      }
    },
    {
      "cell_type": "code",
      "source": [
        "# # Caso precise ler o csv de fora\n",
        "xy_table = pd.read_csv('stations_IDEAM_sept_1_2016.csv')\n",
        "# xy_table = dfn.iloc[:,0:2]"
      ],
      "metadata": {
        "id": "9hyo4RSl3j_Z"
      },
      "execution_count": 52,
      "outputs": []
    },
    {
      "cell_type": "code",
      "source": [
        "xy_table.rename(columns={'LATITUD': 'Lat', 'LONGITUD': 'Long'}, inplace = True)\n",
        "xy_table"
      ],
      "metadata": {
        "id": "jUfYExV0Ck6s"
      },
      "execution_count": 56,
      "outputs": []
    },
    {
      "cell_type": "code",
      "source": [
        "# xy_table.rename(columns={'x': 'Lat', 'y': 'Long'}, inplace = True)"
      ],
      "metadata": {
        "id": "0maBQLA1CSDq"
      },
      "execution_count": 58,
      "outputs": []
    },
    {
      "cell_type": "code",
      "source": [],
      "metadata": {
        "id": "qLfKb_ZPCbqY"
      },
      "execution_count": null,
      "outputs": []
    },
    {
      "cell_type": "code",
      "source": [
        "# Criando uma coluna com as coordenadas\n",
        "xy_table['coordinates'] = xy_table[['Lat', 'Long']].values.tolist()\n",
        "xy_table.head()"
      ],
      "metadata": {
        "colab": {
          "base_uri": "https://localhost:8080/",
          "height": 206
        },
        "id": "UHF3LAyS-ft_",
        "outputId": "ca505dbf-1629-44c4-bcdd-245c09636249"
      },
      "execution_count": 59,
      "outputs": [
        {
          "output_type": "execute_result",
          "data": {
            "text/plain": [
              "   COD_CATALO CATEGORIA       Lat       Long  ALTITUD  FECHA_INST  \\\n",
              "0    31090010        PM  3.957639 -67.835333       92   6/15/1983   \n",
              "1    31095010        CP  3.867667 -67.931694      100  11/15/1972   \n",
              "2    32060030        PM  3.790722 -73.842778      600   1/15/1969   \n",
              "3    32060060        PM  3.742333 -73.834694      800   7/15/1978   \n",
              "4    32070010        PM  3.200000 -73.750000      260   9/15/1979   \n",
              "\n",
              "              coordinates  \n",
              "0  [3.957639, -67.835333]  \n",
              "1  [3.867667, -67.931694]  \n",
              "2  [3.790722, -73.842778]  \n",
              "3  [3.742333, -73.834694]  \n",
              "4           [3.2, -73.75]  "
            ],
            "text/html": [
              "\n",
              "  <div id=\"df-87af2f6c-07bb-4248-8ade-d21f95d8a2f4\">\n",
              "    <div class=\"colab-df-container\">\n",
              "      <div>\n",
              "<style scoped>\n",
              "    .dataframe tbody tr th:only-of-type {\n",
              "        vertical-align: middle;\n",
              "    }\n",
              "\n",
              "    .dataframe tbody tr th {\n",
              "        vertical-align: top;\n",
              "    }\n",
              "\n",
              "    .dataframe thead th {\n",
              "        text-align: right;\n",
              "    }\n",
              "</style>\n",
              "<table border=\"1\" class=\"dataframe\">\n",
              "  <thead>\n",
              "    <tr style=\"text-align: right;\">\n",
              "      <th></th>\n",
              "      <th>COD_CATALO</th>\n",
              "      <th>CATEGORIA</th>\n",
              "      <th>Lat</th>\n",
              "      <th>Long</th>\n",
              "      <th>ALTITUD</th>\n",
              "      <th>FECHA_INST</th>\n",
              "      <th>coordinates</th>\n",
              "    </tr>\n",
              "  </thead>\n",
              "  <tbody>\n",
              "    <tr>\n",
              "      <th>0</th>\n",
              "      <td>31090010</td>\n",
              "      <td>PM</td>\n",
              "      <td>3.957639</td>\n",
              "      <td>-67.835333</td>\n",
              "      <td>92</td>\n",
              "      <td>6/15/1983</td>\n",
              "      <td>[3.957639, -67.835333]</td>\n",
              "    </tr>\n",
              "    <tr>\n",
              "      <th>1</th>\n",
              "      <td>31095010</td>\n",
              "      <td>CP</td>\n",
              "      <td>3.867667</td>\n",
              "      <td>-67.931694</td>\n",
              "      <td>100</td>\n",
              "      <td>11/15/1972</td>\n",
              "      <td>[3.867667, -67.931694]</td>\n",
              "    </tr>\n",
              "    <tr>\n",
              "      <th>2</th>\n",
              "      <td>32060030</td>\n",
              "      <td>PM</td>\n",
              "      <td>3.790722</td>\n",
              "      <td>-73.842778</td>\n",
              "      <td>600</td>\n",
              "      <td>1/15/1969</td>\n",
              "      <td>[3.790722, -73.842778]</td>\n",
              "    </tr>\n",
              "    <tr>\n",
              "      <th>3</th>\n",
              "      <td>32060060</td>\n",
              "      <td>PM</td>\n",
              "      <td>3.742333</td>\n",
              "      <td>-73.834694</td>\n",
              "      <td>800</td>\n",
              "      <td>7/15/1978</td>\n",
              "      <td>[3.742333, -73.834694]</td>\n",
              "    </tr>\n",
              "    <tr>\n",
              "      <th>4</th>\n",
              "      <td>32070010</td>\n",
              "      <td>PM</td>\n",
              "      <td>3.200000</td>\n",
              "      <td>-73.750000</td>\n",
              "      <td>260</td>\n",
              "      <td>9/15/1979</td>\n",
              "      <td>[3.2, -73.75]</td>\n",
              "    </tr>\n",
              "  </tbody>\n",
              "</table>\n",
              "</div>\n",
              "      <button class=\"colab-df-convert\" onclick=\"convertToInteractive('df-87af2f6c-07bb-4248-8ade-d21f95d8a2f4')\"\n",
              "              title=\"Convert this dataframe to an interactive table.\"\n",
              "              style=\"display:none;\">\n",
              "        \n",
              "  <svg xmlns=\"http://www.w3.org/2000/svg\" height=\"24px\"viewBox=\"0 0 24 24\"\n",
              "       width=\"24px\">\n",
              "    <path d=\"M0 0h24v24H0V0z\" fill=\"none\"/>\n",
              "    <path d=\"M18.56 5.44l.94 2.06.94-2.06 2.06-.94-2.06-.94-.94-2.06-.94 2.06-2.06.94zm-11 1L8.5 8.5l.94-2.06 2.06-.94-2.06-.94L8.5 2.5l-.94 2.06-2.06.94zm10 10l.94 2.06.94-2.06 2.06-.94-2.06-.94-.94-2.06-.94 2.06-2.06.94z\"/><path d=\"M17.41 7.96l-1.37-1.37c-.4-.4-.92-.59-1.43-.59-.52 0-1.04.2-1.43.59L10.3 9.45l-7.72 7.72c-.78.78-.78 2.05 0 2.83L4 21.41c.39.39.9.59 1.41.59.51 0 1.02-.2 1.41-.59l7.78-7.78 2.81-2.81c.8-.78.8-2.07 0-2.86zM5.41 20L4 18.59l7.72-7.72 1.47 1.35L5.41 20z\"/>\n",
              "  </svg>\n",
              "      </button>\n",
              "      \n",
              "  <style>\n",
              "    .colab-df-container {\n",
              "      display:flex;\n",
              "      flex-wrap:wrap;\n",
              "      gap: 12px;\n",
              "    }\n",
              "\n",
              "    .colab-df-convert {\n",
              "      background-color: #E8F0FE;\n",
              "      border: none;\n",
              "      border-radius: 50%;\n",
              "      cursor: pointer;\n",
              "      display: none;\n",
              "      fill: #1967D2;\n",
              "      height: 32px;\n",
              "      padding: 0 0 0 0;\n",
              "      width: 32px;\n",
              "    }\n",
              "\n",
              "    .colab-df-convert:hover {\n",
              "      background-color: #E2EBFA;\n",
              "      box-shadow: 0px 1px 2px rgba(60, 64, 67, 0.3), 0px 1px 3px 1px rgba(60, 64, 67, 0.15);\n",
              "      fill: #174EA6;\n",
              "    }\n",
              "\n",
              "    [theme=dark] .colab-df-convert {\n",
              "      background-color: #3B4455;\n",
              "      fill: #D2E3FC;\n",
              "    }\n",
              "\n",
              "    [theme=dark] .colab-df-convert:hover {\n",
              "      background-color: #434B5C;\n",
              "      box-shadow: 0px 1px 3px 1px rgba(0, 0, 0, 0.15);\n",
              "      filter: drop-shadow(0px 1px 2px rgba(0, 0, 0, 0.3));\n",
              "      fill: #FFFFFF;\n",
              "    }\n",
              "  </style>\n",
              "\n",
              "      <script>\n",
              "        const buttonEl =\n",
              "          document.querySelector('#df-87af2f6c-07bb-4248-8ade-d21f95d8a2f4 button.colab-df-convert');\n",
              "        buttonEl.style.display =\n",
              "          google.colab.kernel.accessAllowed ? 'block' : 'none';\n",
              "\n",
              "        async function convertToInteractive(key) {\n",
              "          const element = document.querySelector('#df-87af2f6c-07bb-4248-8ade-d21f95d8a2f4');\n",
              "          const dataTable =\n",
              "            await google.colab.kernel.invokeFunction('convertToInteractive',\n",
              "                                                     [key], {});\n",
              "          if (!dataTable) return;\n",
              "\n",
              "          const docLinkHtml = 'Like what you see? Visit the ' +\n",
              "            '<a target=\"_blank\" href=https://colab.research.google.com/notebooks/data_table.ipynb>data table notebook</a>'\n",
              "            + ' to learn more about interactive tables.';\n",
              "          element.innerHTML = '';\n",
              "          dataTable['output_type'] = 'display_data';\n",
              "          await google.colab.output.renderOutput(dataTable, element);\n",
              "          const docLink = document.createElement('div');\n",
              "          docLink.innerHTML = docLinkHtml;\n",
              "          element.appendChild(docLink);\n",
              "        }\n",
              "      </script>\n",
              "    </div>\n",
              "  </div>\n",
              "  "
            ]
          },
          "metadata": {},
          "execution_count": 59
        }
      ]
    },
    {
      "cell_type": "code",
      "source": [
        "# Modificando o tipo dos dados da 3ª coluna para o formato de ponto por meio da biblioteca \"from shapely.geometry import Point\"\n",
        "from shapely.geometry import Point\n",
        "xy_table['coordinates'] = xy_table['coordinates'].apply(Point)\n",
        "xy_table.head()"
      ],
      "metadata": {
        "colab": {
          "base_uri": "https://localhost:8080/",
          "height": 206
        },
        "id": "C6j3u44k_HJL",
        "outputId": "c98e6e8a-84d4-42d8-d774-e3986f0515a8"
      },
      "execution_count": 60,
      "outputs": [
        {
          "output_type": "execute_result",
          "data": {
            "text/plain": [
              "   COD_CATALO CATEGORIA       Lat       Long  ALTITUD  FECHA_INST  \\\n",
              "0    31090010        PM  3.957639 -67.835333       92   6/15/1983   \n",
              "1    31095010        CP  3.867667 -67.931694      100  11/15/1972   \n",
              "2    32060030        PM  3.790722 -73.842778      600   1/15/1969   \n",
              "3    32060060        PM  3.742333 -73.834694      800   7/15/1978   \n",
              "4    32070010        PM  3.200000 -73.750000      260   9/15/1979   \n",
              "\n",
              "                   coordinates  \n",
              "0  POINT (3.957639 -67.835333)  \n",
              "1  POINT (3.867667 -67.931694)  \n",
              "2  POINT (3.790722 -73.842778)  \n",
              "3  POINT (3.742333 -73.834694)  \n",
              "4           POINT (3.2 -73.75)  "
            ],
            "text/html": [
              "\n",
              "  <div id=\"df-882595ca-43cd-496a-878a-ecb47db9f2d0\">\n",
              "    <div class=\"colab-df-container\">\n",
              "      <div>\n",
              "<style scoped>\n",
              "    .dataframe tbody tr th:only-of-type {\n",
              "        vertical-align: middle;\n",
              "    }\n",
              "\n",
              "    .dataframe tbody tr th {\n",
              "        vertical-align: top;\n",
              "    }\n",
              "\n",
              "    .dataframe thead th {\n",
              "        text-align: right;\n",
              "    }\n",
              "</style>\n",
              "<table border=\"1\" class=\"dataframe\">\n",
              "  <thead>\n",
              "    <tr style=\"text-align: right;\">\n",
              "      <th></th>\n",
              "      <th>COD_CATALO</th>\n",
              "      <th>CATEGORIA</th>\n",
              "      <th>Lat</th>\n",
              "      <th>Long</th>\n",
              "      <th>ALTITUD</th>\n",
              "      <th>FECHA_INST</th>\n",
              "      <th>coordinates</th>\n",
              "    </tr>\n",
              "  </thead>\n",
              "  <tbody>\n",
              "    <tr>\n",
              "      <th>0</th>\n",
              "      <td>31090010</td>\n",
              "      <td>PM</td>\n",
              "      <td>3.957639</td>\n",
              "      <td>-67.835333</td>\n",
              "      <td>92</td>\n",
              "      <td>6/15/1983</td>\n",
              "      <td>POINT (3.957639 -67.835333)</td>\n",
              "    </tr>\n",
              "    <tr>\n",
              "      <th>1</th>\n",
              "      <td>31095010</td>\n",
              "      <td>CP</td>\n",
              "      <td>3.867667</td>\n",
              "      <td>-67.931694</td>\n",
              "      <td>100</td>\n",
              "      <td>11/15/1972</td>\n",
              "      <td>POINT (3.867667 -67.931694)</td>\n",
              "    </tr>\n",
              "    <tr>\n",
              "      <th>2</th>\n",
              "      <td>32060030</td>\n",
              "      <td>PM</td>\n",
              "      <td>3.790722</td>\n",
              "      <td>-73.842778</td>\n",
              "      <td>600</td>\n",
              "      <td>1/15/1969</td>\n",
              "      <td>POINT (3.790722 -73.842778)</td>\n",
              "    </tr>\n",
              "    <tr>\n",
              "      <th>3</th>\n",
              "      <td>32060060</td>\n",
              "      <td>PM</td>\n",
              "      <td>3.742333</td>\n",
              "      <td>-73.834694</td>\n",
              "      <td>800</td>\n",
              "      <td>7/15/1978</td>\n",
              "      <td>POINT (3.742333 -73.834694)</td>\n",
              "    </tr>\n",
              "    <tr>\n",
              "      <th>4</th>\n",
              "      <td>32070010</td>\n",
              "      <td>PM</td>\n",
              "      <td>3.200000</td>\n",
              "      <td>-73.750000</td>\n",
              "      <td>260</td>\n",
              "      <td>9/15/1979</td>\n",
              "      <td>POINT (3.2 -73.75)</td>\n",
              "    </tr>\n",
              "  </tbody>\n",
              "</table>\n",
              "</div>\n",
              "      <button class=\"colab-df-convert\" onclick=\"convertToInteractive('df-882595ca-43cd-496a-878a-ecb47db9f2d0')\"\n",
              "              title=\"Convert this dataframe to an interactive table.\"\n",
              "              style=\"display:none;\">\n",
              "        \n",
              "  <svg xmlns=\"http://www.w3.org/2000/svg\" height=\"24px\"viewBox=\"0 0 24 24\"\n",
              "       width=\"24px\">\n",
              "    <path d=\"M0 0h24v24H0V0z\" fill=\"none\"/>\n",
              "    <path d=\"M18.56 5.44l.94 2.06.94-2.06 2.06-.94-2.06-.94-.94-2.06-.94 2.06-2.06.94zm-11 1L8.5 8.5l.94-2.06 2.06-.94-2.06-.94L8.5 2.5l-.94 2.06-2.06.94zm10 10l.94 2.06.94-2.06 2.06-.94-2.06-.94-.94-2.06-.94 2.06-2.06.94z\"/><path d=\"M17.41 7.96l-1.37-1.37c-.4-.4-.92-.59-1.43-.59-.52 0-1.04.2-1.43.59L10.3 9.45l-7.72 7.72c-.78.78-.78 2.05 0 2.83L4 21.41c.39.39.9.59 1.41.59.51 0 1.02-.2 1.41-.59l7.78-7.78 2.81-2.81c.8-.78.8-2.07 0-2.86zM5.41 20L4 18.59l7.72-7.72 1.47 1.35L5.41 20z\"/>\n",
              "  </svg>\n",
              "      </button>\n",
              "      \n",
              "  <style>\n",
              "    .colab-df-container {\n",
              "      display:flex;\n",
              "      flex-wrap:wrap;\n",
              "      gap: 12px;\n",
              "    }\n",
              "\n",
              "    .colab-df-convert {\n",
              "      background-color: #E8F0FE;\n",
              "      border: none;\n",
              "      border-radius: 50%;\n",
              "      cursor: pointer;\n",
              "      display: none;\n",
              "      fill: #1967D2;\n",
              "      height: 32px;\n",
              "      padding: 0 0 0 0;\n",
              "      width: 32px;\n",
              "    }\n",
              "\n",
              "    .colab-df-convert:hover {\n",
              "      background-color: #E2EBFA;\n",
              "      box-shadow: 0px 1px 2px rgba(60, 64, 67, 0.3), 0px 1px 3px 1px rgba(60, 64, 67, 0.15);\n",
              "      fill: #174EA6;\n",
              "    }\n",
              "\n",
              "    [theme=dark] .colab-df-convert {\n",
              "      background-color: #3B4455;\n",
              "      fill: #D2E3FC;\n",
              "    }\n",
              "\n",
              "    [theme=dark] .colab-df-convert:hover {\n",
              "      background-color: #434B5C;\n",
              "      box-shadow: 0px 1px 3px 1px rgba(0, 0, 0, 0.15);\n",
              "      filter: drop-shadow(0px 1px 2px rgba(0, 0, 0, 0.3));\n",
              "      fill: #FFFFFF;\n",
              "    }\n",
              "  </style>\n",
              "\n",
              "      <script>\n",
              "        const buttonEl =\n",
              "          document.querySelector('#df-882595ca-43cd-496a-878a-ecb47db9f2d0 button.colab-df-convert');\n",
              "        buttonEl.style.display =\n",
              "          google.colab.kernel.accessAllowed ? 'block' : 'none';\n",
              "\n",
              "        async function convertToInteractive(key) {\n",
              "          const element = document.querySelector('#df-882595ca-43cd-496a-878a-ecb47db9f2d0');\n",
              "          const dataTable =\n",
              "            await google.colab.kernel.invokeFunction('convertToInteractive',\n",
              "                                                     [key], {});\n",
              "          if (!dataTable) return;\n",
              "\n",
              "          const docLinkHtml = 'Like what you see? Visit the ' +\n",
              "            '<a target=\"_blank\" href=https://colab.research.google.com/notebooks/data_table.ipynb>data table notebook</a>'\n",
              "            + ' to learn more about interactive tables.';\n",
              "          element.innerHTML = '';\n",
              "          dataTable['output_type'] = 'display_data';\n",
              "          await google.colab.output.renderOutput(dataTable, element);\n",
              "          const docLink = document.createElement('div');\n",
              "          docLink.innerHTML = docLinkHtml;\n",
              "          element.appendChild(docLink);\n",
              "        }\n",
              "      </script>\n",
              "    </div>\n",
              "  </div>\n",
              "  "
            ]
          },
          "metadata": {},
          "execution_count": 60
        }
      ]
    },
    {
      "cell_type": "code",
      "source": [
        "# Perceba que emsmo modificando a nossa tabela segue sendo um dataframe:\n",
        "type(xy_table)"
      ],
      "metadata": {
        "colab": {
          "base_uri": "https://localhost:8080/"
        },
        "id": "6PXv5u2n_ey6",
        "outputId": "f12661f1-2414-4ea4-80a6-77a2433d7e03"
      },
      "execution_count": 61,
      "outputs": [
        {
          "output_type": "execute_result",
          "data": {
            "text/plain": [
              "pandas.core.frame.DataFrame"
            ]
          },
          "metadata": {},
          "execution_count": 61
        }
      ]
    },
    {
      "cell_type": "code",
      "source": [
        "# Por meio do geopandas criamos um geodataframe tomando como geometria a coluna coordinates\n",
        "stations = gpd.GeoDataFrame(xy_table, geometry = 'coordinates')\n",
        "type(stations)"
      ],
      "metadata": {
        "colab": {
          "base_uri": "https://localhost:8080/"
        },
        "id": "7nDkO8ms_fEQ",
        "outputId": "1e2710fb-c057-4b0c-e273-f8943d306196"
      },
      "execution_count": 62,
      "outputs": [
        {
          "output_type": "execute_result",
          "data": {
            "text/plain": [
              "geopandas.geodataframe.GeoDataFrame"
            ]
          },
          "metadata": {},
          "execution_count": 62
        }
      ]
    },
    {
      "cell_type": "code",
      "source": [
        "stations"
      ],
      "metadata": {
        "colab": {
          "base_uri": "https://localhost:8080/",
          "height": 424
        },
        "id": "XnttigCAAM7w",
        "outputId": "d0c0bbba-bd21-419c-88e1-9e544fddf71a"
      },
      "execution_count": 63,
      "outputs": [
        {
          "output_type": "execute_result",
          "data": {
            "text/plain": [
              "     COD_CATALO CATEGORIA       Lat       Long  ALTITUD  FECHA_INST  \\\n",
              "0      31090010        PM  3.957639 -67.835333       92   6/15/1983   \n",
              "1      31095010        CP  3.867667 -67.931694      100  11/15/1972   \n",
              "2      32060030        PM  3.790722 -73.842778      600   1/15/1969   \n",
              "3      32060060        PM  3.742333 -73.834694      800   7/15/1978   \n",
              "4      32070010        PM  3.200000 -73.750000      260   9/15/1979   \n",
              "..          ...       ...       ...        ...      ...         ...   \n",
              "108    37055010        SP  7.069444 -70.738056      128   5/15/1950   \n",
              "109    38010030        PM  5.682778 -67.640278       70   4/15/1984   \n",
              "110    38015030        SP  6.182436 -67.491222       57   6/15/1972   \n",
              "111    38020020        PM  4.956944 -67.834167       79   2/15/1984   \n",
              "112    38030010        PM  4.546056 -67.859028       88  12/15/1983   \n",
              "\n",
              "                   coordinates  \n",
              "0    POINT (3.95764 -67.83533)  \n",
              "1    POINT (3.86767 -67.93169)  \n",
              "2    POINT (3.79072 -73.84278)  \n",
              "3    POINT (3.74233 -73.83469)  \n",
              "4    POINT (3.20000 -73.75000)  \n",
              "..                         ...  \n",
              "108  POINT (7.06944 -70.73806)  \n",
              "109  POINT (5.68278 -67.64028)  \n",
              "110  POINT (6.18244 -67.49122)  \n",
              "111  POINT (4.95694 -67.83417)  \n",
              "112  POINT (4.54606 -67.85903)  \n",
              "\n",
              "[113 rows x 7 columns]"
            ],
            "text/html": [
              "\n",
              "  <div id=\"df-23b43505-5bf9-4b0d-a301-c687d73ff28b\">\n",
              "    <div class=\"colab-df-container\">\n",
              "      <div>\n",
              "<style scoped>\n",
              "    .dataframe tbody tr th:only-of-type {\n",
              "        vertical-align: middle;\n",
              "    }\n",
              "\n",
              "    .dataframe tbody tr th {\n",
              "        vertical-align: top;\n",
              "    }\n",
              "\n",
              "    .dataframe thead th {\n",
              "        text-align: right;\n",
              "    }\n",
              "</style>\n",
              "<table border=\"1\" class=\"dataframe\">\n",
              "  <thead>\n",
              "    <tr style=\"text-align: right;\">\n",
              "      <th></th>\n",
              "      <th>COD_CATALO</th>\n",
              "      <th>CATEGORIA</th>\n",
              "      <th>Lat</th>\n",
              "      <th>Long</th>\n",
              "      <th>ALTITUD</th>\n",
              "      <th>FECHA_INST</th>\n",
              "      <th>coordinates</th>\n",
              "    </tr>\n",
              "  </thead>\n",
              "  <tbody>\n",
              "    <tr>\n",
              "      <th>0</th>\n",
              "      <td>31090010</td>\n",
              "      <td>PM</td>\n",
              "      <td>3.957639</td>\n",
              "      <td>-67.835333</td>\n",
              "      <td>92</td>\n",
              "      <td>6/15/1983</td>\n",
              "      <td>POINT (3.95764 -67.83533)</td>\n",
              "    </tr>\n",
              "    <tr>\n",
              "      <th>1</th>\n",
              "      <td>31095010</td>\n",
              "      <td>CP</td>\n",
              "      <td>3.867667</td>\n",
              "      <td>-67.931694</td>\n",
              "      <td>100</td>\n",
              "      <td>11/15/1972</td>\n",
              "      <td>POINT (3.86767 -67.93169)</td>\n",
              "    </tr>\n",
              "    <tr>\n",
              "      <th>2</th>\n",
              "      <td>32060030</td>\n",
              "      <td>PM</td>\n",
              "      <td>3.790722</td>\n",
              "      <td>-73.842778</td>\n",
              "      <td>600</td>\n",
              "      <td>1/15/1969</td>\n",
              "      <td>POINT (3.79072 -73.84278)</td>\n",
              "    </tr>\n",
              "    <tr>\n",
              "      <th>3</th>\n",
              "      <td>32060060</td>\n",
              "      <td>PM</td>\n",
              "      <td>3.742333</td>\n",
              "      <td>-73.834694</td>\n",
              "      <td>800</td>\n",
              "      <td>7/15/1978</td>\n",
              "      <td>POINT (3.74233 -73.83469)</td>\n",
              "    </tr>\n",
              "    <tr>\n",
              "      <th>4</th>\n",
              "      <td>32070010</td>\n",
              "      <td>PM</td>\n",
              "      <td>3.200000</td>\n",
              "      <td>-73.750000</td>\n",
              "      <td>260</td>\n",
              "      <td>9/15/1979</td>\n",
              "      <td>POINT (3.20000 -73.75000)</td>\n",
              "    </tr>\n",
              "    <tr>\n",
              "      <th>...</th>\n",
              "      <td>...</td>\n",
              "      <td>...</td>\n",
              "      <td>...</td>\n",
              "      <td>...</td>\n",
              "      <td>...</td>\n",
              "      <td>...</td>\n",
              "      <td>...</td>\n",
              "    </tr>\n",
              "    <tr>\n",
              "      <th>108</th>\n",
              "      <td>37055010</td>\n",
              "      <td>SP</td>\n",
              "      <td>7.069444</td>\n",
              "      <td>-70.738056</td>\n",
              "      <td>128</td>\n",
              "      <td>5/15/1950</td>\n",
              "      <td>POINT (7.06944 -70.73806)</td>\n",
              "    </tr>\n",
              "    <tr>\n",
              "      <th>109</th>\n",
              "      <td>38010030</td>\n",
              "      <td>PM</td>\n",
              "      <td>5.682778</td>\n",
              "      <td>-67.640278</td>\n",
              "      <td>70</td>\n",
              "      <td>4/15/1984</td>\n",
              "      <td>POINT (5.68278 -67.64028)</td>\n",
              "    </tr>\n",
              "    <tr>\n",
              "      <th>110</th>\n",
              "      <td>38015030</td>\n",
              "      <td>SP</td>\n",
              "      <td>6.182436</td>\n",
              "      <td>-67.491222</td>\n",
              "      <td>57</td>\n",
              "      <td>6/15/1972</td>\n",
              "      <td>POINT (6.18244 -67.49122)</td>\n",
              "    </tr>\n",
              "    <tr>\n",
              "      <th>111</th>\n",
              "      <td>38020020</td>\n",
              "      <td>PM</td>\n",
              "      <td>4.956944</td>\n",
              "      <td>-67.834167</td>\n",
              "      <td>79</td>\n",
              "      <td>2/15/1984</td>\n",
              "      <td>POINT (4.95694 -67.83417)</td>\n",
              "    </tr>\n",
              "    <tr>\n",
              "      <th>112</th>\n",
              "      <td>38030010</td>\n",
              "      <td>PM</td>\n",
              "      <td>4.546056</td>\n",
              "      <td>-67.859028</td>\n",
              "      <td>88</td>\n",
              "      <td>12/15/1983</td>\n",
              "      <td>POINT (4.54606 -67.85903)</td>\n",
              "    </tr>\n",
              "  </tbody>\n",
              "</table>\n",
              "<p>113 rows × 7 columns</p>\n",
              "</div>\n",
              "      <button class=\"colab-df-convert\" onclick=\"convertToInteractive('df-23b43505-5bf9-4b0d-a301-c687d73ff28b')\"\n",
              "              title=\"Convert this dataframe to an interactive table.\"\n",
              "              style=\"display:none;\">\n",
              "        \n",
              "  <svg xmlns=\"http://www.w3.org/2000/svg\" height=\"24px\"viewBox=\"0 0 24 24\"\n",
              "       width=\"24px\">\n",
              "    <path d=\"M0 0h24v24H0V0z\" fill=\"none\"/>\n",
              "    <path d=\"M18.56 5.44l.94 2.06.94-2.06 2.06-.94-2.06-.94-.94-2.06-.94 2.06-2.06.94zm-11 1L8.5 8.5l.94-2.06 2.06-.94-2.06-.94L8.5 2.5l-.94 2.06-2.06.94zm10 10l.94 2.06.94-2.06 2.06-.94-2.06-.94-.94-2.06-.94 2.06-2.06.94z\"/><path d=\"M17.41 7.96l-1.37-1.37c-.4-.4-.92-.59-1.43-.59-.52 0-1.04.2-1.43.59L10.3 9.45l-7.72 7.72c-.78.78-.78 2.05 0 2.83L4 21.41c.39.39.9.59 1.41.59.51 0 1.02-.2 1.41-.59l7.78-7.78 2.81-2.81c.8-.78.8-2.07 0-2.86zM5.41 20L4 18.59l7.72-7.72 1.47 1.35L5.41 20z\"/>\n",
              "  </svg>\n",
              "      </button>\n",
              "      \n",
              "  <style>\n",
              "    .colab-df-container {\n",
              "      display:flex;\n",
              "      flex-wrap:wrap;\n",
              "      gap: 12px;\n",
              "    }\n",
              "\n",
              "    .colab-df-convert {\n",
              "      background-color: #E8F0FE;\n",
              "      border: none;\n",
              "      border-radius: 50%;\n",
              "      cursor: pointer;\n",
              "      display: none;\n",
              "      fill: #1967D2;\n",
              "      height: 32px;\n",
              "      padding: 0 0 0 0;\n",
              "      width: 32px;\n",
              "    }\n",
              "\n",
              "    .colab-df-convert:hover {\n",
              "      background-color: #E2EBFA;\n",
              "      box-shadow: 0px 1px 2px rgba(60, 64, 67, 0.3), 0px 1px 3px 1px rgba(60, 64, 67, 0.15);\n",
              "      fill: #174EA6;\n",
              "    }\n",
              "\n",
              "    [theme=dark] .colab-df-convert {\n",
              "      background-color: #3B4455;\n",
              "      fill: #D2E3FC;\n",
              "    }\n",
              "\n",
              "    [theme=dark] .colab-df-convert:hover {\n",
              "      background-color: #434B5C;\n",
              "      box-shadow: 0px 1px 3px 1px rgba(0, 0, 0, 0.15);\n",
              "      filter: drop-shadow(0px 1px 2px rgba(0, 0, 0, 0.3));\n",
              "      fill: #FFFFFF;\n",
              "    }\n",
              "  </style>\n",
              "\n",
              "      <script>\n",
              "        const buttonEl =\n",
              "          document.querySelector('#df-23b43505-5bf9-4b0d-a301-c687d73ff28b button.colab-df-convert');\n",
              "        buttonEl.style.display =\n",
              "          google.colab.kernel.accessAllowed ? 'block' : 'none';\n",
              "\n",
              "        async function convertToInteractive(key) {\n",
              "          const element = document.querySelector('#df-23b43505-5bf9-4b0d-a301-c687d73ff28b');\n",
              "          const dataTable =\n",
              "            await google.colab.kernel.invokeFunction('convertToInteractive',\n",
              "                                                     [key], {});\n",
              "          if (!dataTable) return;\n",
              "\n",
              "          const docLinkHtml = 'Like what you see? Visit the ' +\n",
              "            '<a target=\"_blank\" href=https://colab.research.google.com/notebooks/data_table.ipynb>data table notebook</a>'\n",
              "            + ' to learn more about interactive tables.';\n",
              "          element.innerHTML = '';\n",
              "          dataTable['output_type'] = 'display_data';\n",
              "          await google.colab.output.renderOutput(dataTable, element);\n",
              "          const docLink = document.createElement('div');\n",
              "          docLink.innerHTML = docLinkHtml;\n",
              "          element.appendChild(docLink);\n",
              "        }\n",
              "      </script>\n",
              "    </div>\n",
              "  </div>\n",
              "  "
            ]
          },
          "metadata": {},
          "execution_count": 63
        }
      ]
    },
    {
      "cell_type": "markdown",
      "source": [
        "DISPONDO OS PONTOS EM UMA LAYER COM O FOLIUM"
      ],
      "metadata": {
        "id": "K44bmxHYAHyn"
      }
    },
    {
      "cell_type": "code",
      "source": [
        "# Visualizando os pontos\n",
        "fig, ax = plt.subplots()\n",
        "# fig.set_size_inches(10, 15)\n",
        "stations.plot(ax=ax)"
      ],
      "metadata": {
        "colab": {
          "base_uri": "https://localhost:8080/",
          "height": 282
        },
        "id": "kx_iFW9yFLCX",
        "outputId": "27eceb9e-5474-4be2-bd08-2175c490cb38"
      },
      "execution_count": 81,
      "outputs": [
        {
          "output_type": "execute_result",
          "data": {
            "text/plain": [
              "<matplotlib.axes._subplots.AxesSubplot at 0x7ffaba01e7c0>"
            ]
          },
          "metadata": {},
          "execution_count": 81
        },
        {
          "output_type": "display_data",
          "data": {
            "text/plain": [
              "<Figure size 432x288 with 1 Axes>"
            ],
            "image/png": "[encoded data removed]"
          },
          "metadata": {
            "needs_background": "light"
          }
        }
      ]
    },
    {
      "cell_type": "code",
      "source": [
        "import folium"
      ],
      "metadata": {
        "id": "RfDgxfCB_pUx"
      },
      "execution_count": 64,
      "outputs": []
    },
    {
      "cell_type": "code",
      "source": [
        "# Abrindo o visualizador \n",
        "osm_map = folium.Map(location=[stations.Lat.mean(), stations.Long.mean()], zoom_start=7)\n",
        "osm_map"
      ],
      "metadata": {
        "colab": {
          "base_uri": "https://localhost:8080/",
          "height": 602
        },
        "id": "HUONcLH9_pZ6",
        "outputId": "ad6c20f4-cdba-46cc-e333-d04745736146"
      },
      "execution_count": 65,
      "outputs": [
        {
          "output_type": "execute_result",
          "data": {
            "text/plain": [
              "<folium.folium.Map at 0x7ffb1f2e8b80>"
            ],
            "text/html": [
              "<div style=\"width:100%;\"><div style=\"position:relative;width:100%;height:0;padding-bottom:60%;\"><span style=\"color:#565656\">Make this Notebook Trusted to load map: File -> Trust Notebook</span><iframe srcdoc=\"&lt;!DOCTYPE html&gt;\n",
              "&lt;html&gt;\n",
              "&lt;head&gt;\n",
              "    \n",
              "    &lt;meta http-equiv=&quot;content-type&quot; content=&quot;text/html; charset=UTF-8&quot; /&gt;\n",
              "    \n",
              "        &lt;script&gt;\n",
              "            L_NO_TOUCH = false;\n",
              "            L_DISABLE_3D = false;\n",
              "        &lt;/script&gt;\n",
              "    \n",
              "    &lt;style&gt;html, body {width: 100%;height: 100%;margin: 0;padding: 0;}&lt;/style&gt;\n",
              "    &lt;style&gt;#map {position:absolute;top:0;bottom:0;right:0;left:0;}&lt;/style&gt;\n",
              "    &lt;script src=&quot;https://cdn.jsdelivr.net/npm/leaflet@1.6.0/dist/leaflet.js&quot;&gt;&lt;/script&gt;\n",
              "    &lt;script src=&quot;https://code.jquery.com/jquery-1.12.4.min.js&quot;&gt;&lt;/script&gt;\n",
              "    &lt;script src=&quot;https://maxcdn.bootstrapcdn.com/bootstrap/3.2.0/js/bootstrap.min.js&quot;&gt;&lt;/script&gt;\n",
              "    &lt;script src=&quot;https://cdnjs.cloudflare.com/ajax/libs/Leaflet.awesome-markers/2.0.2/leaflet.awesome-markers.js&quot;&gt;&lt;/script&gt;\n",
              "    &lt;link rel=&quot;stylesheet&quot; href=&quot;https://cdn.jsdelivr.net/npm/leaflet@1.6.0/dist/leaflet.css&quot;/&gt;\n",
              "    &lt;link rel=&quot;stylesheet&quot; href=&quot;https://maxcdn.bootstrapcdn.com/bootstrap/3.2.0/css/bootstrap.min.css&quot;/&gt;\n",
              "    &lt;link rel=&quot;stylesheet&quot; href=&quot;https://maxcdn.bootstrapcdn.com/bootstrap/3.2.0/css/bootstrap-theme.min.css&quot;/&gt;\n",
              "    &lt;link rel=&quot;stylesheet&quot; href=&quot;https://maxcdn.bootstrapcdn.com/font-awesome/4.6.3/css/font-awesome.min.css&quot;/&gt;\n",
              "    &lt;link rel=&quot;stylesheet&quot; href=&quot;https://cdnjs.cloudflare.com/ajax/libs/Leaflet.awesome-markers/2.0.2/leaflet.awesome-markers.css&quot;/&gt;\n",
              "    &lt;link rel=&quot;stylesheet&quot; href=&quot;https://cdn.jsdelivr.net/gh/python-visualization/folium/folium/templates/leaflet.awesome.rotate.min.css&quot;/&gt;\n",
              "    \n",
              "            &lt;meta name=&quot;viewport&quot; content=&quot;width=device-width,\n",
              "                initial-scale=1.0, maximum-scale=1.0, user-scalable=no&quot; /&gt;\n",
              "            &lt;style&gt;\n",
              "                #map_17961774f0e6a27262ea6a40d223e64b {\n",
              "                    position: relative;\n",
              "                    width: 100.0%;\n",
              "                    height: 100.0%;\n",
              "                    left: 0.0%;\n",
              "                    top: 0.0%;\n",
              "                }\n",
              "            &lt;/style&gt;\n",
              "        \n",
              "&lt;/head&gt;\n",
              "&lt;body&gt;\n",
              "    \n",
              "    \n",
              "            &lt;div class=&quot;folium-map&quot; id=&quot;map_17961774f0e6a27262ea6a40d223e64b&quot; &gt;&lt;/div&gt;\n",
              "        \n",
              "&lt;/body&gt;\n",
              "&lt;script&gt;\n",
              "    \n",
              "    \n",
              "            var map_17961774f0e6a27262ea6a40d223e64b = L.map(\n",
              "                &quot;map_17961774f0e6a27262ea6a40d223e64b&quot;,\n",
              "                {\n",
              "                    center: [4.676241681415929, -71.85853042477876],\n",
              "                    crs: L.CRS.EPSG3857,\n",
              "                    zoom: 7,\n",
              "                    zoomControl: true,\n",
              "                    preferCanvas: false,\n",
              "                }\n",
              "            );\n",
              "\n",
              "            \n",
              "\n",
              "        \n",
              "    \n",
              "            var tile_layer_07eae08ee3765fadd7903b1947d69905 = L.tileLayer(\n",
              "                &quot;https://{s}.tile.openstreetmap.org/{z}/{x}/{y}.png&quot;,\n",
              "                {&quot;attribution&quot;: &quot;Data by \\u0026copy; \\u003ca href=\\&quot;http://openstreetmap.org\\&quot;\\u003eOpenStreetMap\\u003c/a\\u003e, under \\u003ca href=\\&quot;http://www.openstreetmap.org/copyright\\&quot;\\u003eODbL\\u003c/a\\u003e.&quot;, &quot;detectRetina&quot;: false, &quot;maxNativeZoom&quot;: 18, &quot;maxZoom&quot;: 18, &quot;minZoom&quot;: 0, &quot;noWrap&quot;: false, &quot;opacity&quot;: 1, &quot;subdomains&quot;: &quot;abc&quot;, &quot;tms&quot;: false}\n",
              "            ).addTo(map_17961774f0e6a27262ea6a40d223e64b);\n",
              "        \n",
              "&lt;/script&gt;\n",
              "&lt;/html&gt;\" style=\"position:absolute;width:100%;height:100%;left:0;top:0;border:none !important;\" allowfullscreen webkitallowfullscreen mozallowfullscreen></iframe></div></div>"
            ]
          },
          "metadata": {},
          "execution_count": 65
        }
      ]
    },
    {
      "cell_type": "code",
      "source": [
        "points = folium.features.GeoJson(stations.to_json())"
      ],
      "metadata": {
        "id": "ZHaYmnYZ_pel"
      },
      "execution_count": 66,
      "outputs": []
    },
    {
      "cell_type": "code",
      "source": [
        "osm_map.add_child(points)\n",
        "osm_map"
      ],
      "metadata": {
        "colab": {
          "base_uri": "https://localhost:8080/",
          "height": 602
        },
        "id": "NEuvSUr2_plS",
        "outputId": "52acbe34-cb38-4264-e3c3-5b0313f2cb8a"
      },
      "execution_count": 67,
      "outputs": [
        {
          "output_type": "execute_result",
          "data": {
            "text/plain": [
              "<folium.folium.Map at 0x7ffb1f2e8b80>"
            ],
            "text/html": [
              "<div style=\"width:100%;\"><div style=\"position:relative;width:100%;height:0;padding-bottom:60%;\"><span style=\"color:#565656\">Make this Notebook Trusted to load map: File -> Trust Notebook</span><iframe srcdoc=\"&lt;!DOCTYPE html&gt;\n",
              "&lt;html&gt;\n",
              "&lt;head&gt;\n",
              "    \n",
              "    &lt;meta http-equiv=&quot;content-type&quot; content=&quot;text/html; charset=UTF-8&quot; /&gt;\n",
              "    \n",
              "        &lt;script&gt;\n",
              "            L_NO_TOUCH = false;\n",
              "            L_DISABLE_3D = false;\n",
              "        &lt;/script&gt;\n",
              "    \n",
              "    &lt;style&gt;html, body {width: 100%;height: 100%;margin: 0;padding: 0;}&lt;/style&gt;\n",
              "    &lt;style&gt;#map {position:absolute;top:0;bottom:0;right:0;left:0;}&lt;/style&gt;\n",
              "    &lt;script src=&quot;https://cdn.jsdelivr.net/npm/leaflet@1.6.0/dist/leaflet.js&quot;&gt;&lt;/script&gt;\n",
              "    &lt;script src=&quot;https://code.jquery.com/jquery-1.12.4.min.js&quot;&gt;&lt;/script&gt;\n",
              "    &lt;script src=&quot;https://maxcdn.bootstrapcdn.com/bootstrap/3.2.0/js/bootstrap.min.js&quot;&gt;&lt;/script&gt;\n",
              "    &lt;script src=&quot;https://cdnjs.cloudflare.com/ajax/libs/Leaflet.awesome-markers/2.0.2/leaflet.awesome-markers.js&quot;&gt;&lt;/script&gt;\n",
              "    &lt;link rel=&quot;stylesheet&quot; href=&quot;https://cdn.jsdelivr.net/npm/leaflet@1.6.0/dist/leaflet.css&quot;/&gt;\n",
              "    &lt;link rel=&quot;stylesheet&quot; href=&quot;https://maxcdn.bootstrapcdn.com/bootstrap/3.2.0/css/bootstrap.min.css&quot;/&gt;\n",
              "    &lt;link rel=&quot;stylesheet&quot; href=&quot;https://maxcdn.bootstrapcdn.com/bootstrap/3.2.0/css/bootstrap-theme.min.css&quot;/&gt;\n",
              "    &lt;link rel=&quot;stylesheet&quot; href=&quot;https://maxcdn.bootstrapcdn.com/font-awesome/4.6.3/css/font-awesome.min.css&quot;/&gt;\n",
              "    &lt;link rel=&quot;stylesheet&quot; href=&quot;https://cdnjs.cloudflare.com/ajax/libs/Leaflet.awesome-markers/2.0.2/leaflet.awesome-markers.css&quot;/&gt;\n",
              "    &lt;link rel=&quot;stylesheet&quot; href=&quot;https://cdn.jsdelivr.net/gh/python-visualization/folium/folium/templates/leaflet.awesome.rotate.min.css&quot;/&gt;\n",
              "    \n",
              "            &lt;meta name=&quot;viewport&quot; content=&quot;width=device-width,\n",
              "                initial-scale=1.0, maximum-scale=1.0, user-scalable=no&quot; /&gt;\n",
              "            &lt;style&gt;\n",
              "                #map_17961774f0e6a27262ea6a40d223e64b {\n",
              "                    position: relative;\n",
              "                    width: 100.0%;\n",
              "                    height: 100.0%;\n",
              "                    left: 0.0%;\n",
              "                    top: 0.0%;\n",
              "                }\n",
              "            &lt;/style&gt;\n",
              "        \n",
              "&lt;/head&gt;\n",
              "&lt;body&gt;\n",
              "    \n",
              "    \n",
              "            &lt;div class=&quot;folium-map&quot; id=&quot;map_17961774f0e6a27262ea6a40d223e64b&quot; &gt;&lt;/div&gt;\n",
              "        \n",
              "&lt;/body&gt;\n",
              "&lt;script&gt;\n",
              "    \n",
              "    \n",
              "            var map_17961774f0e6a27262ea6a40d223e64b = L.map(\n",
              "                &quot;map_17961774f0e6a27262ea6a40d223e64b&quot;,\n",
              "                {\n",
              "                    center: [4.676241681415929, -71.85853042477876],\n",
              "                    crs: L.CRS.EPSG3857,\n",
              "                    zoom: 7,\n",
              "                    zoomControl: true,\n",
              "                    preferCanvas: false,\n",
              "                }\n",
              "            );\n",
              "\n",
              "            \n",
              "\n",
              "        \n",
              "    \n",
              "            var tile_layer_07eae08ee3765fadd7903b1947d69905 = L.tileLayer(\n",
              "                &quot;https://{s}.tile.openstreetmap.org/{z}/{x}/{y}.png&quot;,\n",
              "                {&quot;attribution&quot;: &quot;Data by \\u0026copy; \\u003ca href=\\&quot;http://openstreetmap.org\\&quot;\\u003eOpenStreetMap\\u003c/a\\u003e, under \\u003ca href=\\&quot;http://www.openstreetmap.org/copyright\\&quot;\\u003eODbL\\u003c/a\\u003e.&quot;, &quot;detectRetina&quot;: false, &quot;maxNativeZoom&quot;: 18, &quot;maxZoom&quot;: 18, &quot;minZoom&quot;: 0, &quot;noWrap&quot;: false, &quot;opacity&quot;: 1, &quot;subdomains&quot;: &quot;abc&quot;, &quot;tms&quot;: false}\n",
              "            ).addTo(map_17961774f0e6a27262ea6a40d223e64b);\n",
              "        \n",
              "    \n",
              "\n",
              "        function geo_json_63e4614a5f63d12bc82219c1f0234771_onEachFeature(feature, layer) {\n",
              "            layer.on({\n",
              "            });\n",
              "        };\n",
              "        var geo_json_63e4614a5f63d12bc82219c1f0234771 = L.geoJson(null, {\n",
              "                onEachFeature: geo_json_63e4614a5f63d12bc82219c1f0234771_onEachFeature,\n",
              "            \n",
              "        });\n",
              "\n",
              "        function geo_json_63e4614a5f63d12bc82219c1f0234771_add (data) {\n",
              "            geo_json_63e4614a5f63d12bc82219c1f0234771\n",
              "                .addData(data)\n",
              "                .addTo(map_17961774f0e6a27262ea6a40d223e64b);\n",
              "        }\n",
              "            geo_json_63e4614a5f63d12bc82219c1f0234771_add({&quot;features&quot;: [{&quot;geometry&quot;: {&quot;coordinates&quot;: [3.957639, -67.835333], &quot;type&quot;: &quot;Point&quot;}, &quot;id&quot;: &quot;0&quot;, &quot;properties&quot;: {&quot;ALTITUD&quot;: 92, &quot;CATEGORIA&quot;: &quot;PM&quot;, &quot;COD_CATALO&quot;: 31090010, &quot;FECHA_INST&quot;: &quot;6/15/1983&quot;, &quot;Lat&quot;: 3.957639, &quot;Long&quot;: -67.835333}, &quot;type&quot;: &quot;Feature&quot;}, {&quot;geometry&quot;: {&quot;coordinates&quot;: [3.867667, -67.931694], &quot;type&quot;: &quot;Point&quot;}, &quot;id&quot;: &quot;1&quot;, &quot;properties&quot;: {&quot;ALTITUD&quot;: 100, &quot;CATEGORIA&quot;: &quot;CP&quot;, &quot;COD_CATALO&quot;: 31095010, &quot;FECHA_INST&quot;: &quot;11/15/1972&quot;, &quot;Lat&quot;: 3.867667, &quot;Long&quot;: -67.931694}, &quot;type&quot;: &quot;Feature&quot;}, {&quot;geometry&quot;: {&quot;coordinates&quot;: [3.790722, -73.842778], &quot;type&quot;: &quot;Point&quot;}, &quot;id&quot;: &quot;2&quot;, &quot;properties&quot;: {&quot;ALTITUD&quot;: 600, &quot;CATEGORIA&quot;: &quot;PM&quot;, &quot;COD_CATALO&quot;: 32060030, &quot;FECHA_INST&quot;: &quot;1/15/1969&quot;, &quot;Lat&quot;: 3.790722, &quot;Long&quot;: -73.842778}, &quot;type&quot;: &quot;Feature&quot;}, {&quot;geometry&quot;: {&quot;coordinates&quot;: [3.742333, -73.834694], &quot;type&quot;: &quot;Point&quot;}, &quot;id&quot;: &quot;3&quot;, &quot;properties&quot;: {&quot;ALTITUD&quot;: 800, &quot;CATEGORIA&quot;: &quot;PM&quot;, &quot;COD_CATALO&quot;: 32060060, &quot;FECHA_INST&quot;: &quot;7/15/1978&quot;, &quot;Lat&quot;: 3.742333, &quot;Long&quot;: -73.834694}, &quot;type&quot;: &quot;Feature&quot;}, {&quot;geometry&quot;: {&quot;coordinates&quot;: [3.2, -73.75], &quot;type&quot;: &quot;Point&quot;}, &quot;id&quot;: &quot;4&quot;, &quot;properties&quot;: {&quot;ALTITUD&quot;: 260, &quot;CATEGORIA&quot;: &quot;PM&quot;, &quot;COD_CATALO&quot;: 32070010, &quot;FECHA_INST&quot;: &quot;9/15/1979&quot;, &quot;Lat&quot;: 3.2, &quot;Long&quot;: -73.75}, &quot;type&quot;: &quot;Feature&quot;}, {&quot;geometry&quot;: {&quot;coordinates&quot;: [3.25, -73.516667], &quot;type&quot;: &quot;Point&quot;}, &quot;id&quot;: &quot;5&quot;, &quot;properties&quot;: {&quot;ALTITUD&quot;: 240, &quot;CATEGORIA&quot;: &quot;PM&quot;, &quot;COD_CATALO&quot;: 32070020, &quot;FECHA_INST&quot;: &quot;9/15/1979&quot;, &quot;Lat&quot;: 3.25, &quot;Long&quot;: -73.516667}, &quot;type&quot;: &quot;Feature&quot;}, {&quot;geometry&quot;: {&quot;coordinates&quot;: [3.316389, -73.892167], &quot;type&quot;: &quot;Point&quot;}, &quot;id&quot;: &quot;6&quot;, &quot;properties&quot;: {&quot;ALTITUD&quot;: 500, &quot;CATEGORIA&quot;: &quot;PM&quot;, &quot;COD_CATALO&quot;: 32070030, &quot;FECHA_INST&quot;: &quot;9/15/1979&quot;, &quot;Lat&quot;: 3.316389, &quot;Long&quot;: -73.892167}, &quot;type&quot;: &quot;Feature&quot;}, {&quot;geometry&quot;: {&quot;coordinates&quot;: [2.983333, -73.633333], &quot;type&quot;: &quot;Point&quot;}, &quot;id&quot;: &quot;7&quot;, &quot;properties&quot;: {&quot;ALTITUD&quot;: 245, &quot;CATEGORIA&quot;: &quot;PM&quot;, &quot;COD_CATALO&quot;: 32070040, &quot;FECHA_INST&quot;: &quot;9/15/1978&quot;, &quot;Lat&quot;: 2.983333, &quot;Long&quot;: -73.633333}, &quot;type&quot;: &quot;Feature&quot;}, {&quot;geometry&quot;: {&quot;coordinates&quot;: [3.466667, -73.633333], &quot;type&quot;: &quot;Point&quot;}, &quot;id&quot;: &quot;8&quot;, &quot;properties&quot;: {&quot;ALTITUD&quot;: 300, &quot;CATEGORIA&quot;: &quot;PM&quot;, &quot;COD_CATALO&quot;: 32070060, &quot;FECHA_INST&quot;: &quot;7/15/1979&quot;, &quot;Lat&quot;: 3.466667, &quot;Long&quot;: -73.633333}, &quot;type&quot;: &quot;Feature&quot;}, {&quot;geometry&quot;: {&quot;coordinates&quot;: [3.0875, -73.226389], &quot;type&quot;: &quot;Point&quot;}, &quot;id&quot;: &quot;9&quot;, &quot;properties&quot;: {&quot;ALTITUD&quot;: 191, &quot;CATEGORIA&quot;: &quot;PM&quot;, &quot;COD_CATALO&quot;: 32070080, &quot;FECHA_INST&quot;: &quot;6/15/1983&quot;, &quot;Lat&quot;: 3.0875, &quot;Long&quot;: -73.226389}, &quot;type&quot;: &quot;Feature&quot;}, {&quot;geometry&quot;: {&quot;coordinates&quot;: [3.375083, -73.891944], &quot;type&quot;: &quot;Point&quot;}, &quot;id&quot;: &quot;10&quot;, &quot;properties&quot;: {&quot;ALTITUD&quot;: 410, &quot;CATEGORIA&quot;: &quot;PM&quot;, &quot;COD_CATALO&quot;: 32070100, &quot;FECHA_INST&quot;: &quot;12/15/1983&quot;, &quot;Lat&quot;: 3.375083, &quot;Long&quot;: -73.891944}, &quot;type&quot;: &quot;Feature&quot;}, {&quot;geometry&quot;: {&quot;coordinates&quot;: [3.472028, -73.857833], &quot;type&quot;: &quot;Point&quot;}, &quot;id&quot;: &quot;11&quot;, &quot;properties&quot;: {&quot;ALTITUD&quot;: 520, &quot;CATEGORIA&quot;: &quot;PM&quot;, &quot;COD_CATALO&quot;: 32070110, &quot;FECHA_INST&quot;: &quot;4/15/1989&quot;, &quot;Lat&quot;: 3.472028, &quot;Long&quot;: -73.857833}, &quot;type&quot;: &quot;Feature&quot;}, {&quot;geometry&quot;: {&quot;coordinates&quot;: [3.120389, -73.754028], &quot;type&quot;: &quot;Point&quot;}, &quot;id&quot;: &quot;12&quot;, &quot;properties&quot;: {&quot;ALTITUD&quot;: 325, &quot;CATEGORIA&quot;: &quot;CO&quot;, &quot;COD_CATALO&quot;: 32075030, &quot;FECHA_INST&quot;: &quot;4/15/1969&quot;, &quot;Lat&quot;: 3.120389, &quot;Long&quot;: -73.754028}, &quot;type&quot;: &quot;Feature&quot;}, {&quot;geometry&quot;: {&quot;coordinates&quot;: [3.516333, -73.716028], &quot;type&quot;: &quot;Point&quot;}, &quot;id&quot;: &quot;13&quot;, &quot;properties&quot;: {&quot;ALTITUD&quot;: 360, &quot;CATEGORIA&quot;: &quot;CO&quot;, &quot;COD_CATALO&quot;: 32075040, &quot;FECHA_INST&quot;: &quot;11/15/1978&quot;, &quot;Lat&quot;: 3.516333, &quot;Long&quot;: -73.716028}, &quot;type&quot;: &quot;Feature&quot;}, {&quot;geometry&quot;: {&quot;coordinates&quot;: [3.267694, -73.373194], &quot;type&quot;: &quot;Point&quot;}, &quot;id&quot;: &quot;14&quot;, &quot;properties&quot;: {&quot;ALTITUD&quot;: 245, &quot;CATEGORIA&quot;: &quot;CO&quot;, &quot;COD_CATALO&quot;: 32075080, &quot;FECHA_INST&quot;: &quot;10/15/1990&quot;, &quot;Lat&quot;: 3.267694, &quot;Long&quot;: -73.373194}, &quot;type&quot;: &quot;Feature&quot;}, {&quot;geometry&quot;: {&quot;coordinates&quot;: [2.943333, -73.209722], &quot;type&quot;: &quot;Point&quot;}, &quot;id&quot;: &quot;15&quot;, &quot;properties&quot;: {&quot;ALTITUD&quot;: 230, &quot;CATEGORIA&quot;: &quot;PM&quot;, &quot;COD_CATALO&quot;: 32080010, &quot;FECHA_INST&quot;: &quot;8/15/1979&quot;, &quot;Lat&quot;: 2.943333, &quot;Long&quot;: -73.209722}, &quot;type&quot;: &quot;Feature&quot;}, {&quot;geometry&quot;: {&quot;coordinates&quot;: [2.889722, -72.130111], &quot;type&quot;: &quot;Point&quot;}, &quot;id&quot;: &quot;16&quot;, &quot;properties&quot;: {&quot;ALTITUD&quot;: 158, &quot;CATEGORIA&quot;: &quot;PM&quot;, &quot;COD_CATALO&quot;: 32090010, &quot;FECHA_INST&quot;: &quot;6/15/1983&quot;, &quot;Lat&quot;: 2.889722, &quot;Long&quot;: -72.130111}, &quot;type&quot;: &quot;Feature&quot;}, {&quot;geometry&quot;: {&quot;coordinates&quot;: [2.553028, -72.647083], &quot;type&quot;: &quot;Point&quot;}, &quot;id&quot;: &quot;17&quot;, &quot;properties&quot;: {&quot;ALTITUD&quot;: 165, &quot;CATEGORIA&quot;: &quot;CO&quot;, &quot;COD_CATALO&quot;: 32105070, &quot;FECHA_INST&quot;: &quot;11/15/1983&quot;, &quot;Lat&quot;: 2.553028, &quot;Long&quot;: -72.647083}, &quot;type&quot;: &quot;Feature&quot;}, {&quot;geometry&quot;: {&quot;coordinates&quot;: [3.734083, -72.369778], &quot;type&quot;: &quot;Point&quot;}, &quot;id&quot;: &quot;18&quot;, &quot;properties&quot;: {&quot;ALTITUD&quot;: 168, &quot;CATEGORIA&quot;: &quot;PM&quot;, &quot;COD_CATALO&quot;: 32120010, &quot;FECHA_INST&quot;: &quot;12/15/1983&quot;, &quot;Lat&quot;: 3.734083, &quot;Long&quot;: -72.369778}, &quot;type&quot;: &quot;Feature&quot;}, {&quot;geometry&quot;: {&quot;coordinates&quot;: [3.423611, -69.893667], &quot;type&quot;: &quot;Point&quot;}, &quot;id&quot;: &quot;19&quot;, &quot;properties&quot;: {&quot;ALTITUD&quot;: 100, &quot;CATEGORIA&quot;: &quot;PM&quot;, &quot;COD_CATALO&quot;: 32150040, &quot;FECHA_INST&quot;: &quot;6/15/1983&quot;, &quot;Lat&quot;: 3.423611, &quot;Long&quot;: -69.893667}, &quot;type&quot;: &quot;Feature&quot;}, {&quot;geometry&quot;: {&quot;coordinates&quot;: [3.571667, -69.588056], &quot;type&quot;: &quot;Point&quot;}, &quot;id&quot;: &quot;20&quot;, &quot;properties&quot;: {&quot;ALTITUD&quot;: 98, &quot;CATEGORIA&quot;: &quot;PM&quot;, &quot;COD_CATALO&quot;: 32150050, &quot;FECHA_INST&quot;: &quot;6/15/1983&quot;, &quot;Lat&quot;: 3.571667, &quot;Long&quot;: -69.588056}, &quot;type&quot;: &quot;Feature&quot;}, {&quot;geometry&quot;: {&quot;coordinates&quot;: [3.670556, -69.360556], &quot;type&quot;: &quot;Point&quot;}, &quot;id&quot;: &quot;21&quot;, &quot;properties&quot;: {&quot;ALTITUD&quot;: 97, &quot;CATEGORIA&quot;: &quot;PM&quot;, &quot;COD_CATALO&quot;: 32150060, &quot;FECHA_INST&quot;: &quot;6/15/1983&quot;, &quot;Lat&quot;: 3.670556, &quot;Long&quot;: -69.360556}, &quot;type&quot;: &quot;Feature&quot;}, {&quot;geometry&quot;: {&quot;coordinates&quot;: [2.8, -70.533333], &quot;type&quot;: &quot;Point&quot;}, &quot;id&quot;: &quot;22&quot;, &quot;properties&quot;: {&quot;ALTITUD&quot;: 140, &quot;CATEGORIA&quot;: &quot;CO&quot;, &quot;COD_CATALO&quot;: 32155010, &quot;FECHA_INST&quot;: &quot;12/15/1983&quot;, &quot;Lat&quot;: 2.8, &quot;Long&quot;: -70.533333}, &quot;type&quot;: &quot;Feature&quot;}, {&quot;geometry&quot;: {&quot;coordinates&quot;: [3.637139, -69.055306], &quot;type&quot;: &quot;Point&quot;}, &quot;id&quot;: &quot;23&quot;, &quot;properties&quot;: {&quot;ALTITUD&quot;: 96, &quot;CATEGORIA&quot;: &quot;PM&quot;, &quot;COD_CATALO&quot;: 32190010, &quot;FECHA_INST&quot;: &quot;6/15/1983&quot;, &quot;Lat&quot;: 3.637139, &quot;Long&quot;: -69.055306}, &quot;type&quot;: &quot;Feature&quot;}, {&quot;geometry&quot;: {&quot;coordinates&quot;: [3.988472, -68.324806], &quot;type&quot;: &quot;Point&quot;}, &quot;id&quot;: &quot;24&quot;, &quot;properties&quot;: {&quot;ALTITUD&quot;: 94, &quot;CATEGORIA&quot;: &quot;PM&quot;, &quot;COD_CATALO&quot;: 32200010, &quot;FECHA_INST&quot;: &quot;6/15/1983&quot;, &quot;Lat&quot;: 3.988472, &quot;Long&quot;: -68.324806}, &quot;type&quot;: &quot;Feature&quot;}, {&quot;geometry&quot;: {&quot;coordinates&quot;: [4.574417, -71.34075], &quot;type&quot;: &quot;Point&quot;}, &quot;id&quot;: &quot;25&quot;, &quot;properties&quot;: {&quot;ALTITUD&quot;: 200, &quot;CATEGORIA&quot;: &quot;CO&quot;, &quot;COD_CATALO&quot;: 33035010, &quot;FECHA_INST&quot;: &quot;5/15/1972&quot;, &quot;Lat&quot;: 4.574417, &quot;Long&quot;: -71.34075}, &quot;type&quot;: &quot;Feature&quot;}, {&quot;geometry&quot;: {&quot;coordinates&quot;: [4.516111, -69.605833], &quot;type&quot;: &quot;Point&quot;}, &quot;id&quot;: &quot;26&quot;, &quot;properties&quot;: {&quot;ALTITUD&quot;: 90, &quot;CATEGORIA&quot;: &quot;PM&quot;, &quot;COD_CATALO&quot;: 33050020, &quot;FECHA_INST&quot;: &quot;10/15/1983&quot;, &quot;Lat&quot;: 4.516111, &quot;Long&quot;: -69.605833}, &quot;type&quot;: &quot;Feature&quot;}, {&quot;geometry&quot;: {&quot;coordinates&quot;: [4.494722, -69.803333], &quot;type&quot;: &quot;Point&quot;}, &quot;id&quot;: &quot;27&quot;, &quot;properties&quot;: {&quot;ALTITUD&quot;: 167, &quot;CATEGORIA&quot;: &quot;CO&quot;, &quot;COD_CATALO&quot;: 33055010, &quot;FECHA_INST&quot;: &quot;7/15/1991&quot;, &quot;Lat&quot;: 4.494722, &quot;Long&quot;: -69.803333}, &quot;type&quot;: &quot;Feature&quot;}, {&quot;geometry&quot;: {&quot;coordinates&quot;: [4.865889, -68.363833], &quot;type&quot;: &quot;Point&quot;}, &quot;id&quot;: &quot;28&quot;, &quot;properties&quot;: {&quot;ALTITUD&quot;: 87, &quot;CATEGORIA&quot;: &quot;PM&quot;, &quot;COD_CATALO&quot;: 33060010, &quot;FECHA_INST&quot;: &quot;12/15/1983&quot;, &quot;Lat&quot;: 4.865889, &quot;Long&quot;: -68.363833}, &quot;type&quot;: &quot;Feature&quot;}, {&quot;geometry&quot;: {&quot;coordinates&quot;: [4.553944, -70.930111], &quot;type&quot;: &quot;Point&quot;}, &quot;id&quot;: &quot;29&quot;, &quot;properties&quot;: {&quot;ALTITUD&quot;: 171, &quot;CATEGORIA&quot;: &quot;CP&quot;, &quot;COD_CATALO&quot;: 34015010, &quot;FECHA_INST&quot;: &quot;8/15/1967&quot;, &quot;Lat&quot;: 4.553944, &quot;Long&quot;: -70.930111}, &quot;type&quot;: &quot;Feature&quot;}, {&quot;geometry&quot;: {&quot;coordinates&quot;: [5.353139, -67.85825], &quot;type&quot;: &quot;Point&quot;}, &quot;id&quot;: &quot;30&quot;, &quot;properties&quot;: {&quot;ALTITUD&quot;: 167, &quot;CATEGORIA&quot;: &quot;CO&quot;, &quot;COD_CATALO&quot;: 34035010, &quot;FECHA_INST&quot;: &quot;5/15/1972&quot;, &quot;Lat&quot;: 5.353139, &quot;Long&quot;: -67.85825}, &quot;type&quot;: &quot;Feature&quot;}, {&quot;geometry&quot;: {&quot;coordinates&quot;: [4.105028, -72.9365], &quot;type&quot;: &quot;Point&quot;}, &quot;id&quot;: &quot;31&quot;, &quot;properties&quot;: {&quot;ALTITUD&quot;: 182, &quot;CATEGORIA&quot;: &quot;PM&quot;, &quot;COD_CATALO&quot;: 35010010, &quot;FECHA_INST&quot;: &quot;9/15/1960&quot;, &quot;Lat&quot;: 4.105028, &quot;Long&quot;: -72.9365}, &quot;type&quot;: &quot;Feature&quot;}, {&quot;geometry&quot;: {&quot;coordinates&quot;: [3.994639, -73.765583], &quot;type&quot;: &quot;Point&quot;}, &quot;id&quot;: &quot;32&quot;, &quot;properties&quot;: {&quot;ALTITUD&quot;: 525, &quot;CATEGORIA&quot;: &quot;PM&quot;, &quot;COD_CATALO&quot;: 35010020, &quot;FECHA_INST&quot;: &quot;4/15/1961&quot;, &quot;Lat&quot;: 3.994639, &quot;Long&quot;: -73.765583}, &quot;type&quot;: &quot;Feature&quot;}, {&quot;geometry&quot;: {&quot;coordinates&quot;: [3.924222, -73.814583], &quot;type&quot;: &quot;Point&quot;}, &quot;id&quot;: &quot;33&quot;, &quot;properties&quot;: {&quot;ALTITUD&quot;: 800, &quot;CATEGORIA&quot;: &quot;PM&quot;, &quot;COD_CATALO&quot;: 35010040, &quot;FECHA_INST&quot;: &quot;11/15/1968&quot;, &quot;Lat&quot;: 3.924222, &quot;Long&quot;: -73.814583}, &quot;type&quot;: &quot;Feature&quot;}, {&quot;geometry&quot;: {&quot;coordinates&quot;: [3.786667, -73.400556], &quot;type&quot;: &quot;Point&quot;}, &quot;id&quot;: &quot;34&quot;, &quot;properties&quot;: {&quot;ALTITUD&quot;: 230, &quot;CATEGORIA&quot;: &quot;PM&quot;, &quot;COD_CATALO&quot;: 35010060, &quot;FECHA_INST&quot;: &quot;5/15/1978&quot;, &quot;Lat&quot;: 3.786667, &quot;Long&quot;: -73.400556}, &quot;type&quot;: &quot;Feature&quot;}, {&quot;geometry&quot;: {&quot;coordinates&quot;: [3.878333, -73.758611], &quot;type&quot;: &quot;Point&quot;}, &quot;id&quot;: &quot;35&quot;, &quot;properties&quot;: {&quot;ALTITUD&quot;: 525, &quot;CATEGORIA&quot;: &quot;PM&quot;, &quot;COD_CATALO&quot;: 35010070, &quot;FECHA_INST&quot;: &quot;4/15/1978&quot;, &quot;Lat&quot;: 3.878333, &quot;Long&quot;: -73.758611}, &quot;type&quot;: &quot;Feature&quot;}, {&quot;geometry&quot;: {&quot;coordinates&quot;: [3.793889, -73.149722], &quot;type&quot;: &quot;Point&quot;}, &quot;id&quot;: &quot;36&quot;, &quot;properties&quot;: {&quot;ALTITUD&quot;: 200, &quot;CATEGORIA&quot;: &quot;PM&quot;, &quot;COD_CATALO&quot;: 35010080, &quot;FECHA_INST&quot;: &quot;5/15/1978&quot;, &quot;Lat&quot;: 3.793889, &quot;Long&quot;: -73.149722}, &quot;type&quot;: &quot;Feature&quot;}, {&quot;geometry&quot;: {&quot;coordinates&quot;: [3.750278, -73.700833], &quot;type&quot;: &quot;Point&quot;}, &quot;id&quot;: &quot;37&quot;, &quot;properties&quot;: {&quot;ALTITUD&quot;: 420, &quot;CATEGORIA&quot;: &quot;PM&quot;, &quot;COD_CATALO&quot;: 35010090, &quot;FECHA_INST&quot;: &quot;8/15/1978&quot;, &quot;Lat&quot;: 3.750278, &quot;Long&quot;: -73.700833}, &quot;type&quot;: &quot;Feature&quot;}, {&quot;geometry&quot;: {&quot;coordinates&quot;: [3.883333, -73.34], &quot;type&quot;: &quot;Point&quot;}, &quot;id&quot;: &quot;38&quot;, &quot;properties&quot;: {&quot;ALTITUD&quot;: 275, &quot;CATEGORIA&quot;: &quot;PM&quot;, &quot;COD_CATALO&quot;: 35010150, &quot;FECHA_INST&quot;: &quot;1/15/1994&quot;, &quot;Lat&quot;: 3.883333, &quot;Long&quot;: -73.34}, &quot;type&quot;: &quot;Feature&quot;}, {&quot;geometry&quot;: {&quot;coordinates&quot;: [3.984639, -72.971222], &quot;type&quot;: &quot;Point&quot;}, &quot;id&quot;: &quot;39&quot;, &quot;properties&quot;: {&quot;ALTITUD&quot;: 183, &quot;CATEGORIA&quot;: &quot;PM&quot;, &quot;COD_CATALO&quot;: 35010230, &quot;FECHA_INST&quot;: &quot;6/15/1983&quot;, &quot;Lat&quot;: 3.984639, &quot;Long&quot;: -72.971222}, &quot;type&quot;: &quot;Feature&quot;}, {&quot;geometry&quot;: {&quot;coordinates&quot;: [3.630778, -73.349278], &quot;type&quot;: &quot;Point&quot;}, &quot;id&quot;: &quot;40&quot;, &quot;properties&quot;: {&quot;ALTITUD&quot;: 250, &quot;CATEGORIA&quot;: &quot;CO&quot;, &quot;COD_CATALO&quot;: 35015050, &quot;FECHA_INST&quot;: &quot;5/15/1992&quot;, &quot;Lat&quot;: 3.630778, &quot;Long&quot;: -73.349278}, &quot;type&quot;: &quot;Feature&quot;}, {&quot;geometry&quot;: {&quot;coordinates&quot;: [4.03975, -73.368], &quot;type&quot;: &quot;Point&quot;}, &quot;id&quot;: &quot;41&quot;, &quot;properties&quot;: {&quot;ALTITUD&quot;: 260, &quot;CATEGORIA&quot;: &quot;PM&quot;, &quot;COD_CATALO&quot;: 35020060, &quot;FECHA_INST&quot;: &quot;11/15/1978&quot;, &quot;Lat&quot;: 4.03975, &quot;Long&quot;: -73.368}, &quot;type&quot;: &quot;Feature&quot;}, {&quot;geometry&quot;: {&quot;coordinates&quot;: [4.057361, -73.467917], &quot;type&quot;: &quot;Point&quot;}, &quot;id&quot;: &quot;42&quot;, &quot;properties&quot;: {&quot;ALTITUD&quot;: 336, &quot;CATEGORIA&quot;: &quot;CP&quot;, &quot;COD_CATALO&quot;: 35025020, &quot;FECHA_INST&quot;: &quot;4/15/1968&quot;, &quot;Lat&quot;: 4.057361, &quot;Long&quot;: -73.467917}, &quot;type&quot;: &quot;Feature&quot;}, {&quot;geometry&quot;: {&quot;coordinates&quot;: [4.127361, -73.639556], &quot;type&quot;: &quot;Point&quot;}, &quot;id&quot;: &quot;43&quot;, &quot;properties&quot;: {&quot;ALTITUD&quot;: 425, &quot;CATEGORIA&quot;: &quot;PG&quot;, &quot;COD_CATALO&quot;: 35030030, &quot;FECHA_INST&quot;: &quot;8/15/1984&quot;, &quot;Lat&quot;: 4.127361, &quot;Long&quot;: -73.639556}, &quot;type&quot;: &quot;Feature&quot;}, {&quot;geometry&quot;: {&quot;coordinates&quot;: [4.163639, -73.647722], &quot;type&quot;: &quot;Point&quot;}, &quot;id&quot;: &quot;44&quot;, &quot;properties&quot;: {&quot;ALTITUD&quot;: 550, &quot;CATEGORIA&quot;: &quot;PG&quot;, &quot;COD_CATALO&quot;: 35030040, &quot;FECHA_INST&quot;: &quot;2/15/1986&quot;, &quot;Lat&quot;: 4.163639, &quot;Long&quot;: -73.647722}, &quot;type&quot;: &quot;Feature&quot;}, {&quot;geometry&quot;: {&quot;coordinates&quot;: [4.091139, -73.448778], &quot;type&quot;: &quot;Point&quot;}, &quot;id&quot;: &quot;45&quot;, &quot;properties&quot;: {&quot;ALTITUD&quot;: 300, &quot;CATEGORIA&quot;: &quot;PM&quot;, &quot;COD_CATALO&quot;: 35030050, &quot;FECHA_INST&quot;: &quot;7/15/1978&quot;, &quot;Lat&quot;: 4.091139, &quot;Long&quot;: -73.448778}, &quot;type&quot;: &quot;Feature&quot;}, {&quot;geometry&quot;: {&quot;coordinates&quot;: [4.15, -73.633333], &quot;type&quot;: &quot;Point&quot;}, &quot;id&quot;: &quot;46&quot;, &quot;properties&quot;: {&quot;ALTITUD&quot;: 470, &quot;CATEGORIA&quot;: &quot;PG&quot;, &quot;COD_CATALO&quot;: 35030100, &quot;FECHA_INST&quot;: &quot;8/15/1993&quot;, &quot;Lat&quot;: 4.15, &quot;Long&quot;: -73.633333}, &quot;type&quot;: &quot;Feature&quot;}, {&quot;geometry&quot;: {&quot;coordinates&quot;: [4.077111, -73.559917], &quot;type&quot;: &quot;Point&quot;}, &quot;id&quot;: &quot;47&quot;, &quot;properties&quot;: {&quot;ALTITUD&quot;: 400, &quot;CATEGORIA&quot;: &quot;SS&quot;, &quot;COD_CATALO&quot;: 35035010, &quot;FECHA_INST&quot;: &quot;10/15/1972&quot;, &quot;Lat&quot;: 4.077111, &quot;Long&quot;: -73.559917}, &quot;type&quot;: &quot;Feature&quot;}, {&quot;geometry&quot;: {&quot;coordinates&quot;: [4.161919, -73.617578], &quot;type&quot;: &quot;Point&quot;}, &quot;id&quot;: &quot;48&quot;, &quot;properties&quot;: {&quot;ALTITUD&quot;: 422, &quot;CATEGORIA&quot;: &quot;SP&quot;, &quot;COD_CATALO&quot;: 35035020, &quot;FECHA_INST&quot;: &quot;10/15/1924&quot;, &quot;Lat&quot;: 4.161919, &quot;Long&quot;: -73.617578}, &quot;type&quot;: &quot;Feature&quot;}, {&quot;geometry&quot;: {&quot;coordinates&quot;: [4.076722, -73.582], &quot;type&quot;: &quot;Point&quot;}, &quot;id&quot;: &quot;49&quot;, &quot;properties&quot;: {&quot;ALTITUD&quot;: 340, &quot;CATEGORIA&quot;: &quot;CP&quot;, &quot;COD_CATALO&quot;: 35035070, &quot;FECHA_INST&quot;: &quot;10/15/1983&quot;, &quot;Lat&quot;: 4.076722, &quot;Long&quot;: -73.582}, &quot;type&quot;: &quot;Feature&quot;}, {&quot;geometry&quot;: {&quot;coordinates&quot;: [4.300444, -73.3575], &quot;type&quot;: &quot;Point&quot;}, &quot;id&quot;: &quot;50&quot;, &quot;properties&quot;: {&quot;ALTITUD&quot;: 305, &quot;CATEGORIA&quot;: &quot;CO&quot;, &quot;COD_CATALO&quot;: 35045020, &quot;FECHA_INST&quot;: &quot;5/15/1979&quot;, &quot;Lat&quot;: 4.300444, &quot;Long&quot;: -73.3575}, &quot;type&quot;: &quot;Feature&quot;}, {&quot;geometry&quot;: {&quot;coordinates&quot;: [4.506556, -73.347083], &quot;type&quot;: &quot;Point&quot;}, &quot;id&quot;: &quot;51&quot;, &quot;properties&quot;: {&quot;ALTITUD&quot;: 480, &quot;CATEGORIA&quot;: &quot;PM&quot;, &quot;COD_CATALO&quot;: 35050010, &quot;FECHA_INST&quot;: &quot;9/15/1969&quot;, &quot;Lat&quot;: 4.506556, &quot;Long&quot;: -73.347083}, &quot;type&quot;: &quot;Feature&quot;}, {&quot;geometry&quot;: {&quot;coordinates&quot;: [4.423222, -73.395972], &quot;type&quot;: &quot;Point&quot;}, &quot;id&quot;: &quot;52&quot;, &quot;properties&quot;: {&quot;ALTITUD&quot;: 426, &quot;CATEGORIA&quot;: &quot;PM&quot;, &quot;COD_CATALO&quot;: 35050020, &quot;FECHA_INST&quot;: &quot;7/15/1968&quot;, &quot;Lat&quot;: 4.423222, &quot;Long&quot;: -73.395972}, &quot;type&quot;: &quot;Feature&quot;}, {&quot;geometry&quot;: {&quot;coordinates&quot;: [4.376972, -73.301306], &quot;type&quot;: &quot;Point&quot;}, &quot;id&quot;: &quot;53&quot;, &quot;properties&quot;: {&quot;ALTITUD&quot;: 280, &quot;CATEGORIA&quot;: &quot;CO&quot;, &quot;COD_CATALO&quot;: 35055010, &quot;FECHA_INST&quot;: &quot;4/15/1968&quot;, &quot;Lat&quot;: 4.376972, &quot;Long&quot;: -73.301306}, &quot;type&quot;: &quot;Feature&quot;}, {&quot;geometry&quot;: {&quot;coordinates&quot;: [4.733333, -73.2], &quot;type&quot;: &quot;Point&quot;}, &quot;id&quot;: &quot;54&quot;, &quot;properties&quot;: {&quot;ALTITUD&quot;: 400, &quot;CATEGORIA&quot;: &quot;PM&quot;, &quot;COD_CATALO&quot;: 35070170, &quot;FECHA_INST&quot;: &quot;9/15/1972&quot;, &quot;Lat&quot;: 4.733333, &quot;Long&quot;: -73.2}, &quot;type&quot;: &quot;Feature&quot;}, {&quot;geometry&quot;: {&quot;coordinates&quot;: [4.904944, -73.047611], &quot;type&quot;: &quot;Point&quot;}, &quot;id&quot;: &quot;55&quot;, &quot;properties&quot;: {&quot;ALTITUD&quot;: 390, &quot;CATEGORIA&quot;: &quot;PM&quot;, &quot;COD_CATALO&quot;: 35090040, &quot;FECHA_INST&quot;: &quot;4/15/1981&quot;, &quot;Lat&quot;: 4.904944, &quot;Long&quot;: -73.047611}, &quot;type&quot;: &quot;Feature&quot;}, {&quot;geometry&quot;: {&quot;coordinates&quot;: [4.747778, -72.997222], &quot;type&quot;: &quot;Point&quot;}, &quot;id&quot;: &quot;56&quot;, &quot;properties&quot;: {&quot;ALTITUD&quot;: 300, &quot;CATEGORIA&quot;: &quot;PM&quot;, &quot;COD_CATALO&quot;: 35090110, &quot;FECHA_INST&quot;: &quot;6/15/1993&quot;, &quot;Lat&quot;: 4.747778, &quot;Long&quot;: -72.997222}, &quot;type&quot;: &quot;Feature&quot;}, {&quot;geometry&quot;: {&quot;coordinates&quot;: [4.655083, -72.917333], &quot;type&quot;: &quot;Point&quot;}, &quot;id&quot;: &quot;57&quot;, &quot;properties&quot;: {&quot;ALTITUD&quot;: 255, &quot;CATEGORIA&quot;: &quot;CP&quot;, &quot;COD_CATALO&quot;: 35095110, &quot;FECHA_INST&quot;: &quot;9/15/1994&quot;, &quot;Lat&quot;: 4.655083, &quot;Long&quot;: -72.917333}, &quot;type&quot;: &quot;Feature&quot;}, {&quot;geometry&quot;: {&quot;coordinates&quot;: [4.283722, -72.792833], &quot;type&quot;: &quot;Point&quot;}, &quot;id&quot;: &quot;58&quot;, &quot;properties&quot;: {&quot;ALTITUD&quot;: 180, &quot;CATEGORIA&quot;: &quot;PM&quot;, &quot;COD_CATALO&quot;: 35100020, &quot;FECHA_INST&quot;: &quot;6/15/1968&quot;, &quot;Lat&quot;: 4.283722, &quot;Long&quot;: -72.792833}, &quot;type&quot;: &quot;Feature&quot;}, {&quot;geometry&quot;: {&quot;coordinates&quot;: [4.468667, -72.953583], &quot;type&quot;: &quot;Point&quot;}, &quot;id&quot;: &quot;59&quot;, &quot;properties&quot;: {&quot;ALTITUD&quot;: 190, &quot;CATEGORIA&quot;: &quot;CO&quot;, &quot;COD_CATALO&quot;: 35105050, &quot;FECHA_INST&quot;: &quot;10/15/1993&quot;, &quot;Lat&quot;: 4.468667, &quot;Long&quot;: -72.953583}, &quot;type&quot;: &quot;Feature&quot;}, {&quot;geometry&quot;: {&quot;coordinates&quot;: [4.311389, -72.076639], &quot;type&quot;: &quot;Point&quot;}, &quot;id&quot;: &quot;60&quot;, &quot;properties&quot;: {&quot;ALTITUD&quot;: 150, &quot;CATEGORIA&quot;: &quot;PM&quot;, &quot;COD_CATALO&quot;: 35120010, &quot;FECHA_INST&quot;: &quot;1/15/1963&quot;, &quot;Lat&quot;: 4.311389, &quot;Long&quot;: -72.076639}, &quot;type&quot;: &quot;Feature&quot;}, {&quot;geometry&quot;: {&quot;coordinates&quot;: [4.340556, -72.156361], &quot;type&quot;: &quot;Point&quot;}, &quot;id&quot;: &quot;61&quot;, &quot;properties&quot;: {&quot;ALTITUD&quot;: 150, &quot;CATEGORIA&quot;: &quot;CO&quot;, &quot;COD_CATALO&quot;: 35125010, &quot;FECHA_INST&quot;: &quot;5/15/1976&quot;, &quot;Lat&quot;: 4.340556, &quot;Long&quot;: -72.156361}, &quot;type&quot;: &quot;Feature&quot;}, {&quot;geometry&quot;: {&quot;coordinates&quot;: [3.956083, -72.765722], &quot;type&quot;: &quot;Point&quot;}, &quot;id&quot;: &quot;62&quot;, &quot;properties&quot;: {&quot;ALTITUD&quot;: 225, &quot;CATEGORIA&quot;: &quot;PM&quot;, &quot;COD_CATALO&quot;: 35130010, &quot;FECHA_INST&quot;: &quot;4/15/1975&quot;, &quot;Lat&quot;: 3.956083, &quot;Long&quot;: -72.765722}, &quot;type&quot;: &quot;Feature&quot;}, {&quot;geometry&quot;: {&quot;coordinates&quot;: [4.937361, -72.665889], &quot;type&quot;: &quot;Point&quot;}, &quot;id&quot;: &quot;63&quot;, &quot;properties&quot;: {&quot;ALTITUD&quot;: 180, &quot;CATEGORIA&quot;: &quot;PM&quot;, &quot;COD_CATALO&quot;: 35180010, &quot;FECHA_INST&quot;: &quot;11/15/1974&quot;, &quot;Lat&quot;: 4.937361, &quot;Long&quot;: -72.665889}, &quot;type&quot;: &quot;Feature&quot;}, {&quot;geometry&quot;: {&quot;coordinates&quot;: [4.327722, -72.391444], &quot;type&quot;: &quot;Point&quot;}, &quot;id&quot;: &quot;64&quot;, &quot;properties&quot;: {&quot;ALTITUD&quot;: 155, &quot;CATEGORIA&quot;: &quot;PM&quot;, &quot;COD_CATALO&quot;: 35180030, &quot;FECHA_INST&quot;: &quot;6/15/1983&quot;, &quot;Lat&quot;: 4.327722, &quot;Long&quot;: -72.391444}, &quot;type&quot;: &quot;Feature&quot;}, {&quot;geometry&quot;: {&quot;coordinates&quot;: [4.441833, -72.152389], &quot;type&quot;: &quot;Point&quot;}, &quot;id&quot;: &quot;65&quot;, &quot;properties&quot;: {&quot;ALTITUD&quot;: 147, &quot;CATEGORIA&quot;: &quot;PM&quot;, &quot;COD_CATALO&quot;: 35180040, &quot;FECHA_INST&quot;: &quot;6/15/1983&quot;, &quot;Lat&quot;: 4.441833, &quot;Long&quot;: -72.152389}, &quot;type&quot;: &quot;Feature&quot;}, {&quot;geometry&quot;: {&quot;coordinates&quot;: [4.418278, -71.960806], &quot;type&quot;: &quot;Point&quot;}, &quot;id&quot;: &quot;66&quot;, &quot;properties&quot;: {&quot;ALTITUD&quot;: 142, &quot;CATEGORIA&quot;: &quot;PM&quot;, &quot;COD_CATALO&quot;: 35180050, &quot;FECHA_INST&quot;: &quot;6/15/1983&quot;, &quot;Lat&quot;: 4.418278, &quot;Long&quot;: -71.960806}, &quot;type&quot;: &quot;Feature&quot;}, {&quot;geometry&quot;: {&quot;coordinates&quot;: [5.009528, -72.544056], &quot;type&quot;: &quot;Point&quot;}, &quot;id&quot;: &quot;67&quot;, &quot;properties&quot;: {&quot;ALTITUD&quot;: 290, &quot;CATEGORIA&quot;: &quot;PM&quot;, &quot;COD_CATALO&quot;: 35190040, &quot;FECHA_INST&quot;: &quot;11/15/1974&quot;, &quot;Lat&quot;: 5.009528, &quot;Long&quot;: -72.544056}, &quot;type&quot;: &quot;Feature&quot;}, {&quot;geometry&quot;: {&quot;coordinates&quot;: [5.302944, -72.701944], &quot;type&quot;: &quot;Point&quot;}, &quot;id&quot;: &quot;68&quot;, &quot;properties&quot;: {&quot;ALTITUD&quot;: 842, &quot;CATEGORIA&quot;: &quot;PM&quot;, &quot;COD_CATALO&quot;: 35190050, &quot;FECHA_INST&quot;: &quot;11/15/1957&quot;, &quot;Lat&quot;: 5.302944, &quot;Long&quot;: -72.701944}, &quot;type&quot;: &quot;Feature&quot;}, {&quot;geometry&quot;: {&quot;coordinates&quot;: [5.091917, -72.458583], &quot;type&quot;: &quot;Point&quot;}, &quot;id&quot;: &quot;69&quot;, &quot;properties&quot;: {&quot;ALTITUD&quot;: 190, &quot;CATEGORIA&quot;: &quot;PM&quot;, &quot;COD_CATALO&quot;: 35190070, &quot;FECHA_INST&quot;: &quot;11/15/1974&quot;, &quot;Lat&quot;: 5.091917, &quot;Long&quot;: -72.458583}, &quot;type&quot;: &quot;Feature&quot;}, {&quot;geometry&quot;: {&quot;coordinates&quot;: [5.027258, -72.869841], &quot;type&quot;: &quot;Point&quot;}, &quot;id&quot;: &quot;70&quot;, &quot;properties&quot;: {&quot;ALTITUD&quot;: 460, &quot;CATEGORIA&quot;: &quot;CO&quot;, &quot;COD_CATALO&quot;: 35195020, &quot;FECHA_INST&quot;: &quot;11/15/1974&quot;, &quot;Lat&quot;: 5.027258, &quot;Long&quot;: -72.869841}, &quot;type&quot;: &quot;Feature&quot;}, {&quot;geometry&quot;: {&quot;coordinates&quot;: [5.177083, -72.547389], &quot;type&quot;: &quot;Point&quot;}, &quot;id&quot;: &quot;71&quot;, &quot;properties&quot;: {&quot;ALTITUD&quot;: 380, &quot;CATEGORIA&quot;: &quot;CO&quot;, &quot;COD_CATALO&quot;: 35195030, &quot;FECHA_INST&quot;: &quot;1/15/1974&quot;, &quot;Lat&quot;: 5.177083, &quot;Long&quot;: -72.547389}, &quot;type&quot;: &quot;Feature&quot;}, {&quot;geometry&quot;: {&quot;coordinates&quot;: [5.453056, -72.45625], &quot;type&quot;: &quot;Point&quot;}, &quot;id&quot;: &quot;72&quot;, &quot;properties&quot;: {&quot;ALTITUD&quot;: 656, &quot;CATEGORIA&quot;: &quot;PM&quot;, &quot;COD_CATALO&quot;: 35210010, &quot;FECHA_INST&quot;: &quot;11/15/1974&quot;, &quot;Lat&quot;: 5.453056, &quot;Long&quot;: -72.45625}, &quot;type&quot;: &quot;Feature&quot;}, {&quot;geometry&quot;: {&quot;coordinates&quot;: [5.41325, -72.298306], &quot;type&quot;: &quot;Point&quot;}, &quot;id&quot;: &quot;73&quot;, &quot;properties&quot;: {&quot;ALTITUD&quot;: 330, &quot;CATEGORIA&quot;: &quot;PG&quot;, &quot;COD_CATALO&quot;: 35210040, &quot;FECHA_INST&quot;: &quot;11/15/1995&quot;, &quot;Lat&quot;: 5.41325, &quot;Long&quot;: -72.298306}, &quot;type&quot;: &quot;Feature&quot;}, {&quot;geometry&quot;: {&quot;coordinates&quot;: [5.491889, -72.229361], &quot;type&quot;: &quot;Point&quot;}, &quot;id&quot;: &quot;74&quot;, &quot;properties&quot;: {&quot;ALTITUD&quot;: 395, &quot;CATEGORIA&quot;: &quot;PG&quot;, &quot;COD_CATALO&quot;: 35210050, &quot;FECHA_INST&quot;: &quot;11/15/1995&quot;, &quot;Lat&quot;: 5.491889, &quot;Long&quot;: -72.229361}, &quot;type&quot;: &quot;Feature&quot;}, {&quot;geometry&quot;: {&quot;coordinates&quot;: [5.609111, -72.067806], &quot;type&quot;: &quot;Point&quot;}, &quot;id&quot;: &quot;75&quot;, &quot;properties&quot;: {&quot;ALTITUD&quot;: 345, &quot;CATEGORIA&quot;: &quot;PG&quot;, &quot;COD_CATALO&quot;: 35210060, &quot;FECHA_INST&quot;: &quot;11/15/1995&quot;, &quot;Lat&quot;: 5.609111, &quot;Long&quot;: -72.067806}, &quot;type&quot;: &quot;Feature&quot;}, {&quot;geometry&quot;: {&quot;coordinates&quot;: [5.320444, -72.3875], &quot;type&quot;: &quot;Point&quot;}, &quot;id&quot;: &quot;76&quot;, &quot;properties&quot;: {&quot;ALTITUD&quot;: 325, &quot;CATEGORIA&quot;: &quot;CP&quot;, &quot;COD_CATALO&quot;: 35215010, &quot;FECHA_INST&quot;: &quot;11/15/1974&quot;, &quot;Lat&quot;: 5.320444, &quot;Long&quot;: -72.3875}, &quot;type&quot;: &quot;Feature&quot;}, {&quot;geometry&quot;: {&quot;coordinates&quot;: [4.793278, -71.329111], &quot;type&quot;: &quot;Point&quot;}, &quot;id&quot;: &quot;77&quot;, &quot;properties&quot;: {&quot;ALTITUD&quot;: 130, &quot;CATEGORIA&quot;: &quot;PG&quot;, &quot;COD_CATALO&quot;: 35220030, &quot;FECHA_INST&quot;: &quot;4/15/1981&quot;, &quot;Lat&quot;: 4.793278, &quot;Long&quot;: -71.329111}, &quot;type&quot;: &quot;Feature&quot;}, {&quot;geometry&quot;: {&quot;coordinates&quot;: [4.908167, -71.531389], &quot;type&quot;: &quot;Point&quot;}, &quot;id&quot;: &quot;78&quot;, &quot;properties&quot;: {&quot;ALTITUD&quot;: 117, &quot;CATEGORIA&quot;: &quot;PM&quot;, &quot;COD_CATALO&quot;: 35220040, &quot;FECHA_INST&quot;: &quot;6/15/1983&quot;, &quot;Lat&quot;: 4.908167, &quot;Long&quot;: -71.531389}, &quot;type&quot;: &quot;Feature&quot;}, {&quot;geometry&quot;: {&quot;coordinates&quot;: [4.910472, -71.433056], &quot;type&quot;: &quot;Point&quot;}, &quot;id&quot;: &quot;79&quot;, &quot;properties&quot;: {&quot;ALTITUD&quot;: 130, &quot;CATEGORIA&quot;: &quot;CO&quot;, &quot;COD_CATALO&quot;: 35225020, &quot;FECHA_INST&quot;: &quot;4/15/1981&quot;, &quot;Lat&quot;: 4.910472, &quot;Long&quot;: -71.433056}, &quot;type&quot;: &quot;Feature&quot;}, {&quot;geometry&quot;: {&quot;coordinates&quot;: [5.4205, -71.728056], &quot;type&quot;: &quot;Point&quot;}, &quot;id&quot;: &quot;80&quot;, &quot;properties&quot;: {&quot;ALTITUD&quot;: 170, &quot;CATEGORIA&quot;: &quot;PM&quot;, &quot;COD_CATALO&quot;: 35230010, &quot;FECHA_INST&quot;: &quot;11/15/1974&quot;, &quot;Lat&quot;: 5.4205, &quot;Long&quot;: -71.728056}, &quot;type&quot;: &quot;Feature&quot;}, {&quot;geometry&quot;: {&quot;coordinates&quot;: [5.726139, -71.992889], &quot;type&quot;: &quot;Point&quot;}, &quot;id&quot;: &quot;81&quot;, &quot;properties&quot;: {&quot;ALTITUD&quot;: 300, &quot;CATEGORIA&quot;: &quot;PM&quot;, &quot;COD_CATALO&quot;: 35230020, &quot;FECHA_INST&quot;: &quot;9/15/1990&quot;, &quot;Lat&quot;: 5.726139, &quot;Long&quot;: -71.992889}, &quot;type&quot;: &quot;Feature&quot;}, {&quot;geometry&quot;: {&quot;coordinates&quot;: [5.747194, -72.103], &quot;type&quot;: &quot;Point&quot;}, &quot;id&quot;: &quot;82&quot;, &quot;properties&quot;: {&quot;ALTITUD&quot;: 350, &quot;CATEGORIA&quot;: &quot;PG&quot;, &quot;COD_CATALO&quot;: 35230030, &quot;FECHA_INST&quot;: &quot;10/15/1960&quot;, &quot;Lat&quot;: 5.747194, &quot;Long&quot;: -72.103}, &quot;type&quot;: &quot;Feature&quot;}, {&quot;geometry&quot;: {&quot;coordinates&quot;: [5.634389, -72.002639], &quot;type&quot;: &quot;Point&quot;}, &quot;id&quot;: &quot;83&quot;, &quot;properties&quot;: {&quot;ALTITUD&quot;: 320, &quot;CATEGORIA&quot;: &quot;PG&quot;, &quot;COD_CATALO&quot;: 35230040, &quot;FECHA_INST&quot;: &quot;11/15/1995&quot;, &quot;Lat&quot;: 5.634389, &quot;Long&quot;: -72.002639}, &quot;type&quot;: &quot;Feature&quot;}, {&quot;geometry&quot;: {&quot;coordinates&quot;: [5.820502, -72.165323], &quot;type&quot;: &quot;Point&quot;}, &quot;id&quot;: &quot;84&quot;, &quot;properties&quot;: {&quot;ALTITUD&quot;: 1200, &quot;CATEGORIA&quot;: &quot;CO&quot;, &quot;COD_CATALO&quot;: 35235020, &quot;FECHA_INST&quot;: &quot;11/15/1995&quot;, &quot;Lat&quot;: 5.820502, &quot;Long&quot;: -72.165323}, &quot;type&quot;: &quot;Feature&quot;}, {&quot;geometry&quot;: {&quot;coordinates&quot;: [5.419028, -71.666167], &quot;type&quot;: &quot;Point&quot;}, &quot;id&quot;: &quot;85&quot;, &quot;properties&quot;: {&quot;ALTITUD&quot;: 265, &quot;CATEGORIA&quot;: &quot;CP&quot;, &quot;COD_CATALO&quot;: 35235030, &quot;FECHA_INST&quot;: &quot;11/15/1995&quot;, &quot;Lat&quot;: 5.419028, &quot;Long&quot;: -71.666167}, &quot;type&quot;: &quot;Feature&quot;}, {&quot;geometry&quot;: {&quot;coordinates&quot;: [6.095611, -69.423417], &quot;type&quot;: &quot;Point&quot;}, &quot;id&quot;: &quot;86&quot;, &quot;properties&quot;: {&quot;ALTITUD&quot;: 82, &quot;CATEGORIA&quot;: &quot;PM&quot;, &quot;COD_CATALO&quot;: 35250010, &quot;FECHA_INST&quot;: &quot;6/15/1983&quot;, &quot;Lat&quot;: 6.095611, &quot;Long&quot;: -69.423417}, &quot;type&quot;: &quot;Feature&quot;}, {&quot;geometry&quot;: {&quot;coordinates&quot;: [6.176611, -69.127806], &quot;type&quot;: &quot;Point&quot;}, &quot;id&quot;: &quot;87&quot;, &quot;properties&quot;: {&quot;ALTITUD&quot;: 76, &quot;CATEGORIA&quot;: &quot;PM&quot;, &quot;COD_CATALO&quot;: 35250020, &quot;FECHA_INST&quot;: &quot;6/15/1983&quot;, &quot;Lat&quot;: 6.176611, &quot;Long&quot;: -69.127806}, &quot;type&quot;: &quot;Feature&quot;}, {&quot;geometry&quot;: {&quot;coordinates&quot;: [6.145722, -68.777583], &quot;type&quot;: &quot;Point&quot;}, &quot;id&quot;: &quot;88&quot;, &quot;properties&quot;: {&quot;ALTITUD&quot;: 73, &quot;CATEGORIA&quot;: &quot;PM&quot;, &quot;COD_CATALO&quot;: 35250030, &quot;FECHA_INST&quot;: &quot;6/15/1983&quot;, &quot;Lat&quot;: 6.145722, &quot;Long&quot;: -68.777583}, &quot;type&quot;: &quot;Feature&quot;}, {&quot;geometry&quot;: {&quot;coordinates&quot;: [6.175417, -68.394361], &quot;type&quot;: &quot;Point&quot;}, &quot;id&quot;: &quot;89&quot;, &quot;properties&quot;: {&quot;ALTITUD&quot;: 67, &quot;CATEGORIA&quot;: &quot;PM&quot;, &quot;COD_CATALO&quot;: 35250040, &quot;FECHA_INST&quot;: &quot;6/15/1983&quot;, &quot;Lat&quot;: 6.175417, &quot;Long&quot;: -68.394361}, &quot;type&quot;: &quot;Feature&quot;}, {&quot;geometry&quot;: {&quot;coordinates&quot;: [5.143306, -70.8545], &quot;type&quot;: &quot;Point&quot;}, &quot;id&quot;: &quot;90&quot;, &quot;properties&quot;: {&quot;ALTITUD&quot;: 112, &quot;CATEGORIA&quot;: &quot;PM&quot;, &quot;COD_CATALO&quot;: 35260010, &quot;FECHA_INST&quot;: &quot;6/15/1983&quot;, &quot;Lat&quot;: 5.143306, &quot;Long&quot;: -70.8545}, &quot;type&quot;: &quot;Feature&quot;}, {&quot;geometry&quot;: {&quot;coordinates&quot;: [5.270833, -70.705583], &quot;type&quot;: &quot;Point&quot;}, &quot;id&quot;: &quot;91&quot;, &quot;properties&quot;: {&quot;ALTITUD&quot;: 108, &quot;CATEGORIA&quot;: &quot;PM&quot;, &quot;COD_CATALO&quot;: 35260020, &quot;FECHA_INST&quot;: &quot;6/15/1983&quot;, &quot;Lat&quot;: 5.270833, &quot;Long&quot;: -70.705583}, &quot;type&quot;: &quot;Feature&quot;}, {&quot;geometry&quot;: {&quot;coordinates&quot;: [5.351944, -70.678278], &quot;type&quot;: &quot;Point&quot;}, &quot;id&quot;: &quot;92&quot;, &quot;properties&quot;: {&quot;ALTITUD&quot;: 106, &quot;CATEGORIA&quot;: &quot;PM&quot;, &quot;COD_CATALO&quot;: 35260030, &quot;FECHA_INST&quot;: &quot;6/15/1983&quot;, &quot;Lat&quot;: 5.351944, &quot;Long&quot;: -70.678278}, &quot;type&quot;: &quot;Feature&quot;}, {&quot;geometry&quot;: {&quot;coordinates&quot;: [5.561361, -70.280639], &quot;type&quot;: &quot;Point&quot;}, &quot;id&quot;: &quot;93&quot;, &quot;properties&quot;: {&quot;ALTITUD&quot;: 95, &quot;CATEGORIA&quot;: &quot;PM&quot;, &quot;COD_CATALO&quot;: 35260050, &quot;FECHA_INST&quot;: &quot;6/15/1983&quot;, &quot;Lat&quot;: 5.561361, &quot;Long&quot;: -70.280639}, &quot;type&quot;: &quot;Feature&quot;}, {&quot;geometry&quot;: {&quot;coordinates&quot;: [5.791944, -69.987139], &quot;type&quot;: &quot;Point&quot;}, &quot;id&quot;: &quot;94&quot;, &quot;properties&quot;: {&quot;ALTITUD&quot;: 92, &quot;CATEGORIA&quot;: &quot;PM&quot;, &quot;COD_CATALO&quot;: 35260070, &quot;FECHA_INST&quot;: &quot;6/15/1983&quot;, &quot;Lat&quot;: 5.791944, &quot;Long&quot;: -69.987139}, &quot;type&quot;: &quot;Feature&quot;}, {&quot;geometry&quot;: {&quot;coordinates&quot;: [6.010306, -69.843889], &quot;type&quot;: &quot;Point&quot;}, &quot;id&quot;: &quot;95&quot;, &quot;properties&quot;: {&quot;ALTITUD&quot;: 89, &quot;CATEGORIA&quot;: &quot;PM&quot;, &quot;COD_CATALO&quot;: 35260080, &quot;FECHA_INST&quot;: &quot;6/15/1983&quot;, &quot;Lat&quot;: 6.010306, &quot;Long&quot;: -69.843889}, &quot;type&quot;: &quot;Feature&quot;}, {&quot;geometry&quot;: {&quot;coordinates&quot;: [5.900003, -72.004167], &quot;type&quot;: &quot;Point&quot;}, &quot;id&quot;: &quot;96&quot;, &quot;properties&quot;: {&quot;ALTITUD&quot;: 500, &quot;CATEGORIA&quot;: &quot;PG&quot;, &quot;COD_CATALO&quot;: 36010020, &quot;FECHA_INST&quot;: &quot;11/15/1995&quot;, &quot;Lat&quot;: 5.900003, &quot;Long&quot;: -72.004167}, &quot;type&quot;: &quot;Feature&quot;}, {&quot;geometry&quot;: {&quot;coordinates&quot;: [5.93425, -71.833917], &quot;type&quot;: &quot;Point&quot;}, &quot;id&quot;: &quot;97&quot;, &quot;properties&quot;: {&quot;ALTITUD&quot;: 350, &quot;CATEGORIA&quot;: &quot;PG&quot;, &quot;COD_CATALO&quot;: 36010030, &quot;FECHA_INST&quot;: &quot;11/15/1995&quot;, &quot;Lat&quot;: 5.93425, &quot;Long&quot;: -71.833917}, &quot;type&quot;: &quot;Feature&quot;}, {&quot;geometry&quot;: {&quot;coordinates&quot;: [5.878528, -71.887194], &quot;type&quot;: &quot;Point&quot;}, &quot;id&quot;: &quot;98&quot;, &quot;properties&quot;: {&quot;ALTITUD&quot;: 342, &quot;CATEGORIA&quot;: &quot;CP&quot;, &quot;COD_CATALO&quot;: 36015010, &quot;FECHA_INST&quot;: &quot;9/15/1995&quot;, &quot;Lat&quot;: 5.878528, &quot;Long&quot;: -71.887194}, &quot;type&quot;: &quot;Feature&quot;}, {&quot;geometry&quot;: {&quot;coordinates&quot;: [6.088222, -72.190639], &quot;type&quot;: &quot;Point&quot;}, &quot;id&quot;: &quot;99&quot;, &quot;properties&quot;: {&quot;ALTITUD&quot;: 1020, &quot;CATEGORIA&quot;: &quot;PM&quot;, &quot;COD_CATALO&quot;: 36020010, &quot;FECHA_INST&quot;: &quot;2/15/1984&quot;, &quot;Lat&quot;: 6.088222, &quot;Long&quot;: -72.190639}, &quot;type&quot;: &quot;Feature&quot;}, {&quot;geometry&quot;: {&quot;coordinates&quot;: [6.127917, -72.010222], &quot;type&quot;: &quot;Point&quot;}, &quot;id&quot;: &quot;100&quot;, &quot;properties&quot;: {&quot;ALTITUD&quot;: 575, &quot;CATEGORIA&quot;: &quot;PM&quot;, &quot;COD_CATALO&quot;: 36020020, &quot;FECHA_INST&quot;: &quot;2/15/1984&quot;, &quot;Lat&quot;: 6.127917, &quot;Long&quot;: -72.010222}, &quot;type&quot;: &quot;Feature&quot;}, {&quot;geometry&quot;: {&quot;coordinates&quot;: [6.234889, -71.9755], &quot;type&quot;: &quot;Point&quot;}, &quot;id&quot;: &quot;101&quot;, &quot;properties&quot;: {&quot;ALTITUD&quot;: 860, &quot;CATEGORIA&quot;: &quot;PM&quot;, &quot;COD_CATALO&quot;: 36020030, &quot;FECHA_INST&quot;: &quot;2/15/1984&quot;, &quot;Lat&quot;: 6.234889, &quot;Long&quot;: -71.9755}, &quot;type&quot;: &quot;Feature&quot;}, {&quot;geometry&quot;: {&quot;coordinates&quot;: [6.456194, -71.745028], &quot;type&quot;: &quot;Point&quot;}, &quot;id&quot;: &quot;102&quot;, &quot;properties&quot;: {&quot;ALTITUD&quot;: 350, &quot;CATEGORIA&quot;: &quot;CO&quot;, &quot;COD_CATALO&quot;: 36025010, &quot;FECHA_INST&quot;: &quot;2/15/1985&quot;, &quot;Lat&quot;: 6.456194, &quot;Long&quot;: -71.745028}, &quot;type&quot;: &quot;Feature&quot;}, {&quot;geometry&quot;: {&quot;coordinates&quot;: [6.041778, -69.63875], &quot;type&quot;: &quot;Point&quot;}, &quot;id&quot;: &quot;103&quot;, &quot;properties&quot;: {&quot;ALTITUD&quot;: 87, &quot;CATEGORIA&quot;: &quot;PM&quot;, &quot;COD_CATALO&quot;: 36030020, &quot;FECHA_INST&quot;: &quot;6/15/1983&quot;, &quot;Lat&quot;: 6.041778, &quot;Long&quot;: -69.63875}, &quot;type&quot;: &quot;Feature&quot;}, {&quot;geometry&quot;: {&quot;coordinates&quot;: [6.570639, -71.707639], &quot;type&quot;: &quot;Point&quot;}, &quot;id&quot;: &quot;104&quot;, &quot;properties&quot;: {&quot;ALTITUD&quot;: 300, &quot;CATEGORIA&quot;: &quot;PM&quot;, &quot;COD_CATALO&quot;: 36030030, &quot;FECHA_INST&quot;: &quot;12/15/1982&quot;, &quot;Lat&quot;: 6.570639, &quot;Long&quot;: -71.707639}, &quot;type&quot;: &quot;Feature&quot;}, {&quot;geometry&quot;: {&quot;coordinates&quot;: [7.037222, -71.419722], &quot;type&quot;: &quot;Point&quot;}, &quot;id&quot;: &quot;105&quot;, &quot;properties&quot;: {&quot;ALTITUD&quot;: 100, &quot;CATEGORIA&quot;: &quot;PM&quot;, &quot;COD_CATALO&quot;: 37050010, &quot;FECHA_INST&quot;: &quot;6/15/1972&quot;, &quot;Lat&quot;: 7.037222, &quot;Long&quot;: -71.419722}, &quot;type&quot;: &quot;Feature&quot;}, {&quot;geometry&quot;: {&quot;coordinates&quot;: [6.974167, -70.851667], &quot;type&quot;: &quot;Point&quot;}, &quot;id&quot;: &quot;106&quot;, &quot;properties&quot;: {&quot;ALTITUD&quot;: 150, &quot;CATEGORIA&quot;: &quot;PM&quot;, &quot;COD_CATALO&quot;: 37050040, &quot;FECHA_INST&quot;: &quot;5/15/1983&quot;, &quot;Lat&quot;: 6.974167, &quot;Long&quot;: -70.851667}, &quot;type&quot;: &quot;Feature&quot;}, {&quot;geometry&quot;: {&quot;coordinates&quot;: [6.940278, -70.265556], &quot;type&quot;: &quot;Point&quot;}, &quot;id&quot;: &quot;107&quot;, &quot;properties&quot;: {&quot;ALTITUD&quot;: 100, &quot;CATEGORIA&quot;: &quot;PM&quot;, &quot;COD_CATALO&quot;: 37050050, &quot;FECHA_INST&quot;: &quot;5/15/1983&quot;, &quot;Lat&quot;: 6.940278, &quot;Long&quot;: -70.265556}, &quot;type&quot;: &quot;Feature&quot;}, {&quot;geometry&quot;: {&quot;coordinates&quot;: [7.069444, -70.738056], &quot;type&quot;: &quot;Point&quot;}, &quot;id&quot;: &quot;108&quot;, &quot;properties&quot;: {&quot;ALTITUD&quot;: 128, &quot;CATEGORIA&quot;: &quot;SP&quot;, &quot;COD_CATALO&quot;: 37055010, &quot;FECHA_INST&quot;: &quot;5/15/1950&quot;, &quot;Lat&quot;: 7.069444, &quot;Long&quot;: -70.738056}, &quot;type&quot;: &quot;Feature&quot;}, {&quot;geometry&quot;: {&quot;coordinates&quot;: [5.682778, -67.640278], &quot;type&quot;: &quot;Point&quot;}, &quot;id&quot;: &quot;109&quot;, &quot;properties&quot;: {&quot;ALTITUD&quot;: 70, &quot;CATEGORIA&quot;: &quot;PM&quot;, &quot;COD_CATALO&quot;: 38010030, &quot;FECHA_INST&quot;: &quot;4/15/1984&quot;, &quot;Lat&quot;: 5.682778, &quot;Long&quot;: -67.640278}, &quot;type&quot;: &quot;Feature&quot;}, {&quot;geometry&quot;: {&quot;coordinates&quot;: [6.182436, -67.491222], &quot;type&quot;: &quot;Point&quot;}, &quot;id&quot;: &quot;110&quot;, &quot;properties&quot;: {&quot;ALTITUD&quot;: 57, &quot;CATEGORIA&quot;: &quot;SP&quot;, &quot;COD_CATALO&quot;: 38015030, &quot;FECHA_INST&quot;: &quot;6/15/1972&quot;, &quot;Lat&quot;: 6.182436, &quot;Long&quot;: -67.491222}, &quot;type&quot;: &quot;Feature&quot;}, {&quot;geometry&quot;: {&quot;coordinates&quot;: [4.956944, -67.834167], &quot;type&quot;: &quot;Point&quot;}, &quot;id&quot;: &quot;111&quot;, &quot;properties&quot;: {&quot;ALTITUD&quot;: 79, &quot;CATEGORIA&quot;: &quot;PM&quot;, &quot;COD_CATALO&quot;: 38020020, &quot;FECHA_INST&quot;: &quot;2/15/1984&quot;, &quot;Lat&quot;: 4.956944, &quot;Long&quot;: -67.834167}, &quot;type&quot;: &quot;Feature&quot;}, {&quot;geometry&quot;: {&quot;coordinates&quot;: [4.546056, -67.859028], &quot;type&quot;: &quot;Point&quot;}, &quot;id&quot;: &quot;112&quot;, &quot;properties&quot;: {&quot;ALTITUD&quot;: 88, &quot;CATEGORIA&quot;: &quot;PM&quot;, &quot;COD_CATALO&quot;: 38030010, &quot;FECHA_INST&quot;: &quot;12/15/1983&quot;, &quot;Lat&quot;: 4.546056, &quot;Long&quot;: -67.859028}, &quot;type&quot;: &quot;Feature&quot;}], &quot;type&quot;: &quot;FeatureCollection&quot;});\n",
              "\n",
              "        \n",
              "&lt;/script&gt;\n",
              "&lt;/html&gt;\" style=\"position:absolute;width:100%;height:100%;left:0;top:0;border:none !important;\" allowfullscreen webkitallowfullscreen mozallowfullscreen></iframe></div></div>"
            ]
          },
          "metadata": {},
          "execution_count": 67
        }
      ]
    },
    {
      "cell_type": "markdown",
      "source": [
        "Para reprojetar uma camada, a camada deve ter seu sistema de referência de coordenadas (SRC) definido, caso contrário não é possível fazer a reprojeção."
      ],
      "metadata": {
        "id": "I0AP-6xfBRqQ"
      }
    },
    {
      "cell_type": "code",
      "source": [
        "stations.crs\n",
        "#se não tiver, criaremos um sistema de referencia\n",
        "if stations.crs is None:\n",
        "  stations = stations.set_crs('epsg:4326')\n",
        "  stations.crs\n",
        "\n"
      ],
      "metadata": {
        "id": "mj123cbf_fK3"
      },
      "execution_count": 68,
      "outputs": []
    },
    {
      "cell_type": "code",
      "source": [
        "stations_epsg3117 = stations.to_crs('EPSG:3117')\n",
        "stations_epsg3117.crs"
      ],
      "metadata": {
        "colab": {
          "base_uri": "https://localhost:8080/"
        },
        "id": "NwrjusQe_fRX",
        "outputId": "f58ab9b9-b6fd-4481-ef13-4c5983b508db"
      },
      "execution_count": 69,
      "outputs": [
        {
          "output_type": "execute_result",
          "data": {
            "text/plain": [
              "<Derived Projected CRS: EPSG:3117>\n",
              "Name: MAGNA-SIRGAS / Colombia East Central zone\n",
              "Axis Info [cartesian]:\n",
              "- N[north]: Northing (metre)\n",
              "- E[east]: Easting (metre)\n",
              "Area of Use:\n",
              "- name: Colombia - onshore between 1°30'E and 4°30'E of Bogota (72°35'W and 69°34'W of Greenwich).\n",
              "- bounds: (-72.59, -4.23, -69.58, 12.52)\n",
              "Coordinate Operation:\n",
              "- name: Colombia MAGNA East Central zone\n",
              "- method: Transverse Mercator\n",
              "Datum: Marco Geocentrico Nacional de Referencia\n",
              "- Ellipsoid: GRS 1980\n",
              "- Prime Meridian: Greenwich"
            ]
          },
          "metadata": {},
          "execution_count": 69
        }
      ]
    },
    {
      "cell_type": "markdown",
      "source": [
        "Exportar um GeoDataFrame para formatos GIS comuns\n",
        "Use o método to_file() de geopandas para gravar um GeoDataFrame em um arquivo em qualquer um dos mais de 20 formatos possíveis, incluindo GeoPackage, GeoJSON, GML, ESRI Shapefile e outros:"
      ],
      "metadata": {
        "id": "EHYA5UT5Dd2G"
      }
    },
    {
      "cell_type": "code",
      "source": [
        "stations.to_file('teste_file.shp')"
      ],
      "metadata": {
        "colab": {
          "base_uri": "https://localhost:8080/"
        },
        "id": "TJzbDa5vBwez",
        "outputId": "8df89de9-cc95-49e7-fa52-e834228b9ad8"
      },
      "execution_count": 70,
      "outputs": [
        {
          "output_type": "stream",
          "name": "stderr",
          "text": [
            "<ipython-input-70-bd500ed6edf3>:1: UserWarning: Column names longer than 10 characters will be truncated when saved to ESRI Shapefile.\n",
            "  stations.to_file('teste_file.shp')\n"
          ]
        }
      ]
    }
  ]
}